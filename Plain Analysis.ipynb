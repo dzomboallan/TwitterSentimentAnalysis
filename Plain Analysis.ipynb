{
 "cells": [
  {
   "cell_type": "code",
   "execution_count": null,
   "id": "c2c8ca00",
   "metadata": {},
   "outputs": [],
   "source": [
    "#Sentiment analysis program(twitter)"
   ]
  },
  {
   "cell_type": "code",
   "execution_count": 1,
   "id": "600ad526",
   "metadata": {},
   "outputs": [
    {
     "name": "stderr",
     "output_type": "stream",
     "text": [
      "C:\\Users\\user\\anaconda3\\lib\\site-packages\\requests\\__init__.py:89: RequestsDependencyWarning: urllib3 (1.26.9) or chardet (3.0.4) doesn't match a supported version!\n",
      "  warnings.warn(\"urllib3 ({}) or chardet ({}) doesn't match a supported \"\n"
     ]
    },
    {
     "ename": "ModuleNotFoundError",
     "evalue": "No module named 'pands'",
     "output_type": "error",
     "traceback": [
      "\u001b[1;31m---------------------------------------------------------------------------\u001b[0m",
      "\u001b[1;31mModuleNotFoundError\u001b[0m                       Traceback (most recent call last)",
      "Input \u001b[1;32mIn [1]\u001b[0m, in \u001b[0;36m<cell line: 4>\u001b[1;34m()\u001b[0m\n\u001b[0;32m      2\u001b[0m \u001b[38;5;28;01mfrom\u001b[39;00m \u001b[38;5;21;01mtextblob\u001b[39;00m \u001b[38;5;28;01mimport\u001b[39;00m TextBlob\n\u001b[0;32m      3\u001b[0m \u001b[38;5;28;01mfrom\u001b[39;00m \u001b[38;5;21;01mwordcloud\u001b[39;00m \u001b[38;5;28;01mimport\u001b[39;00m WordCloud\n\u001b[1;32m----> 4\u001b[0m \u001b[38;5;28;01mimport\u001b[39;00m \u001b[38;5;21;01mpands\u001b[39;00m \u001b[38;5;28;01mas\u001b[39;00m \u001b[38;5;21;01mpd\u001b[39;00m\n\u001b[0;32m      5\u001b[0m \u001b[38;5;28;01mimport\u001b[39;00m \u001b[38;5;21;01mnumpy\u001b[39;00m \u001b[38;5;28;01mas\u001b[39;00m \u001b[38;5;21;01mnp\u001b[39;00m\n\u001b[0;32m      6\u001b[0m \u001b[38;5;28;01mimport\u001b[39;00m \u001b[38;5;21;01mre\u001b[39;00m\n",
      "\u001b[1;31mModuleNotFoundError\u001b[0m: No module named 'pands'"
     ]
    }
   ],
   "source": [
    "import tweepy\n",
    "from textblob import TextBlob\n",
    "from wordcloud import WordCloud\n",
    "import pands as pd\n",
    "import numpy as np\n",
    "import re\n",
    "import matplotlib.pyplot as plt\n",
    "plt.style.use('fivethirtyeight')"
   ]
  },
  {
   "cell_type": "code",
   "execution_count": 2,
   "id": "a11cf91b",
   "metadata": {},
   "outputs": [],
   "source": [
    "import tweepy\n",
    "from textblob import TextBlob\n",
    "from wordcloud import WordCloud\n",
    "import pandas as pd\n",
    "import numpy as np\n",
    "import re\n",
    "import matplotlib.pyplot as plt\n",
    "plt.style.use('fivethirtyeight')"
   ]
  },
  {
   "cell_type": "code",
   "execution_count": 3,
   "id": "080cc1a8",
   "metadata": {},
   "outputs": [],
   "source": [
    "consumerKey = 'GcwiyL6wij6Mjkd5cRdKBShWN'\n",
    "consumerSecret = 'k3KiCLF1550VUgXf5vMRI4SVUGgvUstr5LQTB16ABhHpkmyDnm'\n",
    "accessToken = 'AAAAAAAAAAAAAAAAAAAAAAu9awEAAAAAg3%2BC90l94EylwHy1GLUxGwX2v%2BM%3DmkWa1XimP7wnzdPtzBhLmhYczQ9EOiR8yh58uBNPAXmgv6SHnv'"
   ]
  },
  {
   "cell_type": "raw",
   "id": "3bc6a3b1",
   "metadata": {},
   "source": [
    "#Create the authentication object\n",
    "\n",
    "authenticate = tweepy.OAuthHandler(consumerKey, consumerSecret )\n",
    "\n",
    "#set the access token and access token secret\n",
    "authenticate.set_access_token(accessToken)\n",
    "\n",
    "#Create the API \n",
    "api = tweepy.API(authenticate, wait_on_rare_limit = true)"
   ]
  },
  {
   "cell_type": "code",
   "execution_count": 4,
   "id": "c4306158",
   "metadata": {},
   "outputs": [],
   "source": [
    "authenticate = tweepy.OAuthHandler(consumerKey, consumerSecret )"
   ]
  },
  {
   "cell_type": "code",
   "execution_count": 5,
   "id": "f8e490af",
   "metadata": {},
   "outputs": [
    {
     "ename": "TypeError",
     "evalue": "set_access_token() missing 1 required positional argument: 'secret'",
     "output_type": "error",
     "traceback": [
      "\u001b[1;31m---------------------------------------------------------------------------\u001b[0m",
      "\u001b[1;31mTypeError\u001b[0m                                 Traceback (most recent call last)",
      "Input \u001b[1;32mIn [5]\u001b[0m, in \u001b[0;36m<cell line: 1>\u001b[1;34m()\u001b[0m\n\u001b[1;32m----> 1\u001b[0m \u001b[43mauthenticate\u001b[49m\u001b[38;5;241;43m.\u001b[39;49m\u001b[43mset_access_token\u001b[49m\u001b[43m(\u001b[49m\u001b[43maccessToken\u001b[49m\u001b[43m)\u001b[49m\n",
      "\u001b[1;31mTypeError\u001b[0m: set_access_token() missing 1 required positional argument: 'secret'"
     ]
    }
   ],
   "source": [
    "authenticate.set_access_token(accessToken)"
   ]
  },
  {
   "cell_type": "code",
   "execution_count": 6,
   "id": "a59370c2",
   "metadata": {},
   "outputs": [],
   "source": [
    "authenticate.set_access_token(accessToken, consumerSecret)"
   ]
  },
  {
   "cell_type": "code",
   "execution_count": 7,
   "id": "5629d0e1",
   "metadata": {},
   "outputs": [
    {
     "ename": "NameError",
     "evalue": "name 'true' is not defined",
     "output_type": "error",
     "traceback": [
      "\u001b[1;31m---------------------------------------------------------------------------\u001b[0m",
      "\u001b[1;31mNameError\u001b[0m                                 Traceback (most recent call last)",
      "Input \u001b[1;32mIn [7]\u001b[0m, in \u001b[0;36m<cell line: 1>\u001b[1;34m()\u001b[0m\n\u001b[1;32m----> 1\u001b[0m api \u001b[38;5;241m=\u001b[39m tweepy\u001b[38;5;241m.\u001b[39mAPI(authenticate, wait_on_rare_limit \u001b[38;5;241m=\u001b[39m \u001b[43mtrue\u001b[49m)\n",
      "\u001b[1;31mNameError\u001b[0m: name 'true' is not defined"
     ]
    }
   ],
   "source": [
    "api = tweepy.API(authenticate, wait_on_rare_limit = true)"
   ]
  },
  {
   "cell_type": "code",
   "execution_count": 8,
   "id": "20f42237",
   "metadata": {},
   "outputs": [
    {
     "ename": "TypeError",
     "evalue": "__init__() got an unexpected keyword argument 'wait_on_rare_limit'",
     "output_type": "error",
     "traceback": [
      "\u001b[1;31m---------------------------------------------------------------------------\u001b[0m",
      "\u001b[1;31mTypeError\u001b[0m                                 Traceback (most recent call last)",
      "Input \u001b[1;32mIn [8]\u001b[0m, in \u001b[0;36m<cell line: 1>\u001b[1;34m()\u001b[0m\n\u001b[1;32m----> 1\u001b[0m api \u001b[38;5;241m=\u001b[39m \u001b[43mtweepy\u001b[49m\u001b[38;5;241;43m.\u001b[39;49m\u001b[43mAPI\u001b[49m\u001b[43m(\u001b[49m\u001b[43mauthenticate\u001b[49m\u001b[43m,\u001b[49m\u001b[43m \u001b[49m\u001b[43mwait_on_rare_limit\u001b[49m\u001b[43m \u001b[49m\u001b[38;5;241;43m=\u001b[39;49m\u001b[43m \u001b[49m\u001b[38;5;28;43;01mTrue\u001b[39;49;00m\u001b[43m)\u001b[49m\n",
      "\u001b[1;31mTypeError\u001b[0m: __init__() got an unexpected keyword argument 'wait_on_rare_limit'"
     ]
    }
   ],
   "source": [
    "api = tweepy.API(authenticate, wait_on_rare_limit = True)"
   ]
  },
  {
   "cell_type": "code",
   "execution_count": 9,
   "id": "a7229231",
   "metadata": {},
   "outputs": [
    {
     "ename": "NameError",
     "evalue": "name 'true' is not defined",
     "output_type": "error",
     "traceback": [
      "\u001b[1;31m---------------------------------------------------------------------------\u001b[0m",
      "\u001b[1;31mNameError\u001b[0m                                 Traceback (most recent call last)",
      "Input \u001b[1;32mIn [9]\u001b[0m, in \u001b[0;36m<cell line: 1>\u001b[1;34m()\u001b[0m\n\u001b[1;32m----> 1\u001b[0m api \u001b[38;5;241m=\u001b[39m tweepy\u001b[38;5;241m.\u001b[39mAPI(authenticate, wait_on_rate_limit \u001b[38;5;241m=\u001b[39m \u001b[43mtrue\u001b[49m)\n",
      "\u001b[1;31mNameError\u001b[0m: name 'true' is not defined"
     ]
    }
   ],
   "source": [
    "api = tweepy.API(authenticate, wait_on_rate_limit = true)"
   ]
  },
  {
   "cell_type": "code",
   "execution_count": 10,
   "id": "a107aa82",
   "metadata": {},
   "outputs": [],
   "source": [
    "api = tweepy.API(authenticate, wait_on_rate_limit = True)"
   ]
  },
  {
   "cell_type": "code",
   "execution_count": 11,
   "id": "d53f47f3",
   "metadata": {},
   "outputs": [
    {
     "name": "stderr",
     "output_type": "stream",
     "text": [
      "Unexpected parameter: lang\n"
     ]
    },
    {
     "ename": "BadRequest",
     "evalue": "400 Bad Request\n215 - Bad Authentication data.",
     "output_type": "error",
     "traceback": [
      "\u001b[1;31m---------------------------------------------------------------------------\u001b[0m",
      "\u001b[1;31mBadRequest\u001b[0m                                Traceback (most recent call last)",
      "Input \u001b[1;32mIn [11]\u001b[0m, in \u001b[0;36m<cell line: 2>\u001b[1;34m()\u001b[0m\n\u001b[0;32m      1\u001b[0m \u001b[38;5;66;03m#Extract 100 tweets from a twitter user\u001b[39;00m\n\u001b[1;32m----> 2\u001b[0m posts \u001b[38;5;241m=\u001b[39m \u001b[43mapi\u001b[49m\u001b[38;5;241;43m.\u001b[39;49m\u001b[43muser_timeline\u001b[49m\u001b[43m(\u001b[49m\u001b[43mscreen_name\u001b[49m\u001b[38;5;241;43m=\u001b[39;49m\u001b[38;5;124;43m\"\u001b[39;49m\u001b[38;5;124;43mBillGates\u001b[39;49m\u001b[38;5;124;43m\"\u001b[39;49m\u001b[43m,\u001b[49m\u001b[43m \u001b[49m\u001b[43mcount\u001b[49m\u001b[38;5;241;43m=\u001b[39;49m\u001b[38;5;241;43m100\u001b[39;49m\u001b[43m,\u001b[49m\u001b[43m \u001b[49m\u001b[43mlang\u001b[49m\u001b[38;5;241;43m=\u001b[39;49m\u001b[38;5;124;43m\"\u001b[39;49m\u001b[38;5;124;43men\u001b[39;49m\u001b[38;5;124;43m\"\u001b[39;49m\u001b[43m,\u001b[49m\u001b[43m \u001b[49m\u001b[43mtweet_mode\u001b[49m\u001b[38;5;241;43m=\u001b[39;49m\u001b[38;5;124;43m\"\u001b[39;49m\u001b[38;5;124;43mextended\u001b[39;49m\u001b[38;5;124;43m\"\u001b[39;49m\u001b[43m)\u001b[49m\n\u001b[0;32m      4\u001b[0m \u001b[38;5;66;03m#Print the last 5 tweets from the account\u001b[39;00m\n\u001b[0;32m      5\u001b[0m \u001b[38;5;28mprint\u001b[39m(\u001b[38;5;124m'\u001b[39m\u001b[38;5;124mShow the last 5 tweets\u001b[39m\u001b[38;5;124m'\u001b[39m)\n",
      "File \u001b[1;32m~\\anaconda3\\lib\\site-packages\\tweepy\\api.py:33\u001b[0m, in \u001b[0;36mpagination.<locals>.decorator.<locals>.wrapper\u001b[1;34m(*args, **kwargs)\u001b[0m\n\u001b[0;32m     31\u001b[0m \u001b[38;5;129m@functools\u001b[39m\u001b[38;5;241m.\u001b[39mwraps(method)\n\u001b[0;32m     32\u001b[0m \u001b[38;5;28;01mdef\u001b[39;00m \u001b[38;5;21mwrapper\u001b[39m(\u001b[38;5;241m*\u001b[39margs, \u001b[38;5;241m*\u001b[39m\u001b[38;5;241m*\u001b[39mkwargs):\n\u001b[1;32m---> 33\u001b[0m     \u001b[38;5;28;01mreturn\u001b[39;00m method(\u001b[38;5;241m*\u001b[39margs, \u001b[38;5;241m*\u001b[39m\u001b[38;5;241m*\u001b[39mkwargs)\n",
      "File \u001b[1;32m~\\anaconda3\\lib\\site-packages\\tweepy\\api.py:46\u001b[0m, in \u001b[0;36mpayload.<locals>.decorator.<locals>.wrapper\u001b[1;34m(*args, **kwargs)\u001b[0m\n\u001b[0;32m     44\u001b[0m kwargs[\u001b[38;5;124m'\u001b[39m\u001b[38;5;124mpayload_list\u001b[39m\u001b[38;5;124m'\u001b[39m] \u001b[38;5;241m=\u001b[39m payload_list\n\u001b[0;32m     45\u001b[0m kwargs[\u001b[38;5;124m'\u001b[39m\u001b[38;5;124mpayload_type\u001b[39m\u001b[38;5;124m'\u001b[39m] \u001b[38;5;241m=\u001b[39m payload_type\n\u001b[1;32m---> 46\u001b[0m \u001b[38;5;28;01mreturn\u001b[39;00m method(\u001b[38;5;241m*\u001b[39margs, \u001b[38;5;241m*\u001b[39m\u001b[38;5;241m*\u001b[39mkwargs)\n",
      "File \u001b[1;32m~\\anaconda3\\lib\\site-packages\\tweepy\\api.py:571\u001b[0m, in \u001b[0;36mAPI.user_timeline\u001b[1;34m(self, **kwargs)\u001b[0m\n\u001b[0;32m    530\u001b[0m \u001b[38;5;129m@pagination\u001b[39m(mode\u001b[38;5;241m=\u001b[39m\u001b[38;5;124m'\u001b[39m\u001b[38;5;124mid\u001b[39m\u001b[38;5;124m'\u001b[39m)\n\u001b[0;32m    531\u001b[0m \u001b[38;5;129m@payload\u001b[39m(\u001b[38;5;124m'\u001b[39m\u001b[38;5;124mstatus\u001b[39m\u001b[38;5;124m'\u001b[39m, \u001b[38;5;28mlist\u001b[39m\u001b[38;5;241m=\u001b[39m\u001b[38;5;28;01mTrue\u001b[39;00m)\n\u001b[0;32m    532\u001b[0m \u001b[38;5;28;01mdef\u001b[39;00m \u001b[38;5;21muser_timeline\u001b[39m(\u001b[38;5;28mself\u001b[39m, \u001b[38;5;241m*\u001b[39m\u001b[38;5;241m*\u001b[39mkwargs):\n\u001b[0;32m    533\u001b[0m     \u001b[38;5;124;03m\"\"\"user_timeline(*, user_id, screen_name, since_id, count, max_id, \\\u001b[39;00m\n\u001b[0;32m    534\u001b[0m \u001b[38;5;124;03m                     trim_user, exclude_replies, include_rts)\u001b[39;00m\n\u001b[0;32m    535\u001b[0m \n\u001b[1;32m   (...)\u001b[0m\n\u001b[0;32m    569\u001b[0m \u001b[38;5;124;03m    https://developer.twitter.com/en/docs/twitter-api/v1/tweets/timelines/api-reference/get-statuses-user_timeline\u001b[39;00m\n\u001b[0;32m    570\u001b[0m \u001b[38;5;124;03m    \"\"\"\u001b[39;00m\n\u001b[1;32m--> 571\u001b[0m     \u001b[38;5;28;01mreturn\u001b[39;00m \u001b[38;5;28mself\u001b[39m\u001b[38;5;241m.\u001b[39mrequest(\n\u001b[0;32m    572\u001b[0m         \u001b[38;5;124m'\u001b[39m\u001b[38;5;124mGET\u001b[39m\u001b[38;5;124m'\u001b[39m, \u001b[38;5;124m'\u001b[39m\u001b[38;5;124mstatuses/user_timeline\u001b[39m\u001b[38;5;124m'\u001b[39m, endpoint_parameters\u001b[38;5;241m=\u001b[39m(\n\u001b[0;32m    573\u001b[0m             \u001b[38;5;124m'\u001b[39m\u001b[38;5;124muser_id\u001b[39m\u001b[38;5;124m'\u001b[39m, \u001b[38;5;124m'\u001b[39m\u001b[38;5;124mscreen_name\u001b[39m\u001b[38;5;124m'\u001b[39m, \u001b[38;5;124m'\u001b[39m\u001b[38;5;124msince_id\u001b[39m\u001b[38;5;124m'\u001b[39m, \u001b[38;5;124m'\u001b[39m\u001b[38;5;124mcount\u001b[39m\u001b[38;5;124m'\u001b[39m, \u001b[38;5;124m'\u001b[39m\u001b[38;5;124mmax_id\u001b[39m\u001b[38;5;124m'\u001b[39m,\n\u001b[0;32m    574\u001b[0m             \u001b[38;5;124m'\u001b[39m\u001b[38;5;124mtrim_user\u001b[39m\u001b[38;5;124m'\u001b[39m, \u001b[38;5;124m'\u001b[39m\u001b[38;5;124mexclude_replies\u001b[39m\u001b[38;5;124m'\u001b[39m, \u001b[38;5;124m'\u001b[39m\u001b[38;5;124minclude_rts\u001b[39m\u001b[38;5;124m'\u001b[39m\n\u001b[0;32m    575\u001b[0m         ), \u001b[38;5;241m*\u001b[39m\u001b[38;5;241m*\u001b[39mkwargs\n\u001b[0;32m    576\u001b[0m     )\n",
      "File \u001b[1;32m~\\anaconda3\\lib\\site-packages\\tweepy\\api.py:255\u001b[0m, in \u001b[0;36mAPI.request\u001b[1;34m(self, method, endpoint, endpoint_parameters, params, headers, json_payload, parser, payload_list, payload_type, post_data, files, require_auth, return_cursors, upload_api, use_cache, **kwargs)\u001b[0m\n\u001b[0;32m    253\u001b[0m \u001b[38;5;28mself\u001b[39m\u001b[38;5;241m.\u001b[39mlast_response \u001b[38;5;241m=\u001b[39m resp\n\u001b[0;32m    254\u001b[0m \u001b[38;5;28;01mif\u001b[39;00m resp\u001b[38;5;241m.\u001b[39mstatus_code \u001b[38;5;241m==\u001b[39m \u001b[38;5;241m400\u001b[39m:\n\u001b[1;32m--> 255\u001b[0m     \u001b[38;5;28;01mraise\u001b[39;00m BadRequest(resp)\n\u001b[0;32m    256\u001b[0m \u001b[38;5;28;01mif\u001b[39;00m resp\u001b[38;5;241m.\u001b[39mstatus_code \u001b[38;5;241m==\u001b[39m \u001b[38;5;241m401\u001b[39m:\n\u001b[0;32m    257\u001b[0m     \u001b[38;5;28;01mraise\u001b[39;00m Unauthorized(resp)\n",
      "\u001b[1;31mBadRequest\u001b[0m: 400 Bad Request\n215 - Bad Authentication data."
     ]
    }
   ],
   "source": [
    "#Extract 100 tweets from a twitter user\n",
    "posts = api.user_timeline(screen_name=\"BillGates\", count=100, lang=\"en\", tweet_mode=\"extended\")\n",
    "\n",
    "#Print the last 5 tweets from the account\n",
    "print('Show the last 5 tweets')\n",
    "for tweets in range[0:5]:\n",
    "    print(tweet.full_text + '\\n')"
   ]
  },
  {
   "cell_type": "code",
   "execution_count": 12,
   "id": "69c830c7",
   "metadata": {},
   "outputs": [
    {
     "ename": "BadRequest",
     "evalue": "400 Bad Request\n215 - Bad Authentication data.",
     "output_type": "error",
     "traceback": [
      "\u001b[1;31m---------------------------------------------------------------------------\u001b[0m",
      "\u001b[1;31mBadRequest\u001b[0m                                Traceback (most recent call last)",
      "Input \u001b[1;32mIn [12]\u001b[0m, in \u001b[0;36m<cell line: 1>\u001b[1;34m()\u001b[0m\n\u001b[1;32m----> 1\u001b[0m posts \u001b[38;5;241m=\u001b[39m \u001b[43mapi\u001b[49m\u001b[38;5;241;43m.\u001b[39;49m\u001b[43muser_timeline\u001b[49m\u001b[43m(\u001b[49m\u001b[43mscreen_name\u001b[49m\u001b[38;5;241;43m=\u001b[39;49m\u001b[38;5;124;43m\"\u001b[39;49m\u001b[38;5;124;43mBillGates\u001b[39;49m\u001b[38;5;124;43m\"\u001b[39;49m\u001b[43m,\u001b[49m\u001b[43m \u001b[49m\u001b[43mcount\u001b[49m\u001b[38;5;241;43m=\u001b[39;49m\u001b[38;5;241;43m100\u001b[39;49m\u001b[43m,\u001b[49m\u001b[43m \u001b[49m\u001b[43mtweet_mode\u001b[49m\u001b[38;5;241;43m=\u001b[39;49m\u001b[38;5;124;43m\"\u001b[39;49m\u001b[38;5;124;43mextended\u001b[39;49m\u001b[38;5;124;43m\"\u001b[39;49m\u001b[43m)\u001b[49m\n\u001b[0;32m      3\u001b[0m \u001b[38;5;28mprint\u001b[39m(\u001b[38;5;124m'\u001b[39m\u001b[38;5;124mShow the last 5 tweets\u001b[39m\u001b[38;5;124m'\u001b[39m)\n\u001b[0;32m      4\u001b[0m \u001b[38;5;28;01mfor\u001b[39;00m tweets \u001b[38;5;129;01min\u001b[39;00m \u001b[38;5;28mrange\u001b[39m[\u001b[38;5;241m0\u001b[39m:\u001b[38;5;241m5\u001b[39m]:\n",
      "File \u001b[1;32m~\\anaconda3\\lib\\site-packages\\tweepy\\api.py:33\u001b[0m, in \u001b[0;36mpagination.<locals>.decorator.<locals>.wrapper\u001b[1;34m(*args, **kwargs)\u001b[0m\n\u001b[0;32m     31\u001b[0m \u001b[38;5;129m@functools\u001b[39m\u001b[38;5;241m.\u001b[39mwraps(method)\n\u001b[0;32m     32\u001b[0m \u001b[38;5;28;01mdef\u001b[39;00m \u001b[38;5;21mwrapper\u001b[39m(\u001b[38;5;241m*\u001b[39margs, \u001b[38;5;241m*\u001b[39m\u001b[38;5;241m*\u001b[39mkwargs):\n\u001b[1;32m---> 33\u001b[0m     \u001b[38;5;28;01mreturn\u001b[39;00m method(\u001b[38;5;241m*\u001b[39margs, \u001b[38;5;241m*\u001b[39m\u001b[38;5;241m*\u001b[39mkwargs)\n",
      "File \u001b[1;32m~\\anaconda3\\lib\\site-packages\\tweepy\\api.py:46\u001b[0m, in \u001b[0;36mpayload.<locals>.decorator.<locals>.wrapper\u001b[1;34m(*args, **kwargs)\u001b[0m\n\u001b[0;32m     44\u001b[0m kwargs[\u001b[38;5;124m'\u001b[39m\u001b[38;5;124mpayload_list\u001b[39m\u001b[38;5;124m'\u001b[39m] \u001b[38;5;241m=\u001b[39m payload_list\n\u001b[0;32m     45\u001b[0m kwargs[\u001b[38;5;124m'\u001b[39m\u001b[38;5;124mpayload_type\u001b[39m\u001b[38;5;124m'\u001b[39m] \u001b[38;5;241m=\u001b[39m payload_type\n\u001b[1;32m---> 46\u001b[0m \u001b[38;5;28;01mreturn\u001b[39;00m method(\u001b[38;5;241m*\u001b[39margs, \u001b[38;5;241m*\u001b[39m\u001b[38;5;241m*\u001b[39mkwargs)\n",
      "File \u001b[1;32m~\\anaconda3\\lib\\site-packages\\tweepy\\api.py:571\u001b[0m, in \u001b[0;36mAPI.user_timeline\u001b[1;34m(self, **kwargs)\u001b[0m\n\u001b[0;32m    530\u001b[0m \u001b[38;5;129m@pagination\u001b[39m(mode\u001b[38;5;241m=\u001b[39m\u001b[38;5;124m'\u001b[39m\u001b[38;5;124mid\u001b[39m\u001b[38;5;124m'\u001b[39m)\n\u001b[0;32m    531\u001b[0m \u001b[38;5;129m@payload\u001b[39m(\u001b[38;5;124m'\u001b[39m\u001b[38;5;124mstatus\u001b[39m\u001b[38;5;124m'\u001b[39m, \u001b[38;5;28mlist\u001b[39m\u001b[38;5;241m=\u001b[39m\u001b[38;5;28;01mTrue\u001b[39;00m)\n\u001b[0;32m    532\u001b[0m \u001b[38;5;28;01mdef\u001b[39;00m \u001b[38;5;21muser_timeline\u001b[39m(\u001b[38;5;28mself\u001b[39m, \u001b[38;5;241m*\u001b[39m\u001b[38;5;241m*\u001b[39mkwargs):\n\u001b[0;32m    533\u001b[0m     \u001b[38;5;124;03m\"\"\"user_timeline(*, user_id, screen_name, since_id, count, max_id, \\\u001b[39;00m\n\u001b[0;32m    534\u001b[0m \u001b[38;5;124;03m                     trim_user, exclude_replies, include_rts)\u001b[39;00m\n\u001b[0;32m    535\u001b[0m \n\u001b[1;32m   (...)\u001b[0m\n\u001b[0;32m    569\u001b[0m \u001b[38;5;124;03m    https://developer.twitter.com/en/docs/twitter-api/v1/tweets/timelines/api-reference/get-statuses-user_timeline\u001b[39;00m\n\u001b[0;32m    570\u001b[0m \u001b[38;5;124;03m    \"\"\"\u001b[39;00m\n\u001b[1;32m--> 571\u001b[0m     \u001b[38;5;28;01mreturn\u001b[39;00m \u001b[38;5;28mself\u001b[39m\u001b[38;5;241m.\u001b[39mrequest(\n\u001b[0;32m    572\u001b[0m         \u001b[38;5;124m'\u001b[39m\u001b[38;5;124mGET\u001b[39m\u001b[38;5;124m'\u001b[39m, \u001b[38;5;124m'\u001b[39m\u001b[38;5;124mstatuses/user_timeline\u001b[39m\u001b[38;5;124m'\u001b[39m, endpoint_parameters\u001b[38;5;241m=\u001b[39m(\n\u001b[0;32m    573\u001b[0m             \u001b[38;5;124m'\u001b[39m\u001b[38;5;124muser_id\u001b[39m\u001b[38;5;124m'\u001b[39m, \u001b[38;5;124m'\u001b[39m\u001b[38;5;124mscreen_name\u001b[39m\u001b[38;5;124m'\u001b[39m, \u001b[38;5;124m'\u001b[39m\u001b[38;5;124msince_id\u001b[39m\u001b[38;5;124m'\u001b[39m, \u001b[38;5;124m'\u001b[39m\u001b[38;5;124mcount\u001b[39m\u001b[38;5;124m'\u001b[39m, \u001b[38;5;124m'\u001b[39m\u001b[38;5;124mmax_id\u001b[39m\u001b[38;5;124m'\u001b[39m,\n\u001b[0;32m    574\u001b[0m             \u001b[38;5;124m'\u001b[39m\u001b[38;5;124mtrim_user\u001b[39m\u001b[38;5;124m'\u001b[39m, \u001b[38;5;124m'\u001b[39m\u001b[38;5;124mexclude_replies\u001b[39m\u001b[38;5;124m'\u001b[39m, \u001b[38;5;124m'\u001b[39m\u001b[38;5;124minclude_rts\u001b[39m\u001b[38;5;124m'\u001b[39m\n\u001b[0;32m    575\u001b[0m         ), \u001b[38;5;241m*\u001b[39m\u001b[38;5;241m*\u001b[39mkwargs\n\u001b[0;32m    576\u001b[0m     )\n",
      "File \u001b[1;32m~\\anaconda3\\lib\\site-packages\\tweepy\\api.py:255\u001b[0m, in \u001b[0;36mAPI.request\u001b[1;34m(self, method, endpoint, endpoint_parameters, params, headers, json_payload, parser, payload_list, payload_type, post_data, files, require_auth, return_cursors, upload_api, use_cache, **kwargs)\u001b[0m\n\u001b[0;32m    253\u001b[0m \u001b[38;5;28mself\u001b[39m\u001b[38;5;241m.\u001b[39mlast_response \u001b[38;5;241m=\u001b[39m resp\n\u001b[0;32m    254\u001b[0m \u001b[38;5;28;01mif\u001b[39;00m resp\u001b[38;5;241m.\u001b[39mstatus_code \u001b[38;5;241m==\u001b[39m \u001b[38;5;241m400\u001b[39m:\n\u001b[1;32m--> 255\u001b[0m     \u001b[38;5;28;01mraise\u001b[39;00m BadRequest(resp)\n\u001b[0;32m    256\u001b[0m \u001b[38;5;28;01mif\u001b[39;00m resp\u001b[38;5;241m.\u001b[39mstatus_code \u001b[38;5;241m==\u001b[39m \u001b[38;5;241m401\u001b[39m:\n\u001b[0;32m    257\u001b[0m     \u001b[38;5;28;01mraise\u001b[39;00m Unauthorized(resp)\n",
      "\u001b[1;31mBadRequest\u001b[0m: 400 Bad Request\n215 - Bad Authentication data."
     ]
    }
   ],
   "source": [
    "posts = api.user_timeline(screen_name=\"BillGates\", count=100, tweet_mode=\"extended\")\n",
    "\n",
    "print('Show the last 5 tweets')\n",
    "for tweets in range[0:5]:\n",
    "    print(tweet.full_text + '\\n')\n"
   ]
  },
  {
   "cell_type": "code",
   "execution_count": 13,
   "id": "49090f9b",
   "metadata": {},
   "outputs": [],
   "source": [
    "consumerKey = \"GcwiyL6wij6Mjkd5cRdKBShWN\"\n",
    "consumerSecret = \"k3KiCLF1550VUgXf5vMRI4SVUGgvUstr5LQTB16ABhHpkmyDnm\"\n",
    "accessToken = \"AAAAAAAAAAAAAAAAAAAAAAu9awEAAAAAg3%2BC90l94EylwHy1GLUxGwX2v%2BM%3DmkWa1XimP7wnzdPtzBhLmhYczQ9EOiR8yh58uBNPAXmgv6SHnv\""
   ]
  },
  {
   "cell_type": "code",
   "execution_count": 14,
   "id": "54f09cdb",
   "metadata": {},
   "outputs": [],
   "source": [
    "authenticate = tweepy.OAuthHandler(consumerKey, consumerSecret )\n",
    "authenticate.set_access_token(accessToken, consumerSecret)\n",
    "api = tweepy.API(authenticate, wait_on_rate_limit = True)"
   ]
  },
  {
   "cell_type": "code",
   "execution_count": 15,
   "id": "9adc2b99",
   "metadata": {},
   "outputs": [
    {
     "ename": "BadRequest",
     "evalue": "400 Bad Request\n215 - Bad Authentication data.",
     "output_type": "error",
     "traceback": [
      "\u001b[1;31m---------------------------------------------------------------------------\u001b[0m",
      "\u001b[1;31mBadRequest\u001b[0m                                Traceback (most recent call last)",
      "Input \u001b[1;32mIn [15]\u001b[0m, in \u001b[0;36m<cell line: 1>\u001b[1;34m()\u001b[0m\n\u001b[1;32m----> 1\u001b[0m posts \u001b[38;5;241m=\u001b[39m \u001b[43mapi\u001b[49m\u001b[38;5;241;43m.\u001b[39;49m\u001b[43muser_timeline\u001b[49m\u001b[43m(\u001b[49m\u001b[43mscreen_name\u001b[49m\u001b[38;5;241;43m=\u001b[39;49m\u001b[38;5;124;43m\"\u001b[39;49m\u001b[38;5;124;43mBillGates\u001b[39;49m\u001b[38;5;124;43m\"\u001b[39;49m\u001b[43m,\u001b[49m\u001b[43m \u001b[49m\u001b[43mcount\u001b[49m\u001b[38;5;241;43m=\u001b[39;49m\u001b[38;5;241;43m100\u001b[39;49m\u001b[43m,\u001b[49m\u001b[43m \u001b[49m\u001b[43mtweet_mode\u001b[49m\u001b[38;5;241;43m=\u001b[39;49m\u001b[38;5;124;43m\"\u001b[39;49m\u001b[38;5;124;43mextended\u001b[39;49m\u001b[38;5;124;43m\"\u001b[39;49m\u001b[43m)\u001b[49m\n\u001b[0;32m      3\u001b[0m \u001b[38;5;28mprint\u001b[39m(\u001b[38;5;124m'\u001b[39m\u001b[38;5;124mShow the last 5 tweets\u001b[39m\u001b[38;5;124m'\u001b[39m)\n\u001b[0;32m      4\u001b[0m \u001b[38;5;28;01mfor\u001b[39;00m tweets \u001b[38;5;129;01min\u001b[39;00m \u001b[38;5;28mrange\u001b[39m[\u001b[38;5;241m0\u001b[39m:\u001b[38;5;241m5\u001b[39m]:\n",
      "File \u001b[1;32m~\\anaconda3\\lib\\site-packages\\tweepy\\api.py:33\u001b[0m, in \u001b[0;36mpagination.<locals>.decorator.<locals>.wrapper\u001b[1;34m(*args, **kwargs)\u001b[0m\n\u001b[0;32m     31\u001b[0m \u001b[38;5;129m@functools\u001b[39m\u001b[38;5;241m.\u001b[39mwraps(method)\n\u001b[0;32m     32\u001b[0m \u001b[38;5;28;01mdef\u001b[39;00m \u001b[38;5;21mwrapper\u001b[39m(\u001b[38;5;241m*\u001b[39margs, \u001b[38;5;241m*\u001b[39m\u001b[38;5;241m*\u001b[39mkwargs):\n\u001b[1;32m---> 33\u001b[0m     \u001b[38;5;28;01mreturn\u001b[39;00m method(\u001b[38;5;241m*\u001b[39margs, \u001b[38;5;241m*\u001b[39m\u001b[38;5;241m*\u001b[39mkwargs)\n",
      "File \u001b[1;32m~\\anaconda3\\lib\\site-packages\\tweepy\\api.py:46\u001b[0m, in \u001b[0;36mpayload.<locals>.decorator.<locals>.wrapper\u001b[1;34m(*args, **kwargs)\u001b[0m\n\u001b[0;32m     44\u001b[0m kwargs[\u001b[38;5;124m'\u001b[39m\u001b[38;5;124mpayload_list\u001b[39m\u001b[38;5;124m'\u001b[39m] \u001b[38;5;241m=\u001b[39m payload_list\n\u001b[0;32m     45\u001b[0m kwargs[\u001b[38;5;124m'\u001b[39m\u001b[38;5;124mpayload_type\u001b[39m\u001b[38;5;124m'\u001b[39m] \u001b[38;5;241m=\u001b[39m payload_type\n\u001b[1;32m---> 46\u001b[0m \u001b[38;5;28;01mreturn\u001b[39;00m method(\u001b[38;5;241m*\u001b[39margs, \u001b[38;5;241m*\u001b[39m\u001b[38;5;241m*\u001b[39mkwargs)\n",
      "File \u001b[1;32m~\\anaconda3\\lib\\site-packages\\tweepy\\api.py:571\u001b[0m, in \u001b[0;36mAPI.user_timeline\u001b[1;34m(self, **kwargs)\u001b[0m\n\u001b[0;32m    530\u001b[0m \u001b[38;5;129m@pagination\u001b[39m(mode\u001b[38;5;241m=\u001b[39m\u001b[38;5;124m'\u001b[39m\u001b[38;5;124mid\u001b[39m\u001b[38;5;124m'\u001b[39m)\n\u001b[0;32m    531\u001b[0m \u001b[38;5;129m@payload\u001b[39m(\u001b[38;5;124m'\u001b[39m\u001b[38;5;124mstatus\u001b[39m\u001b[38;5;124m'\u001b[39m, \u001b[38;5;28mlist\u001b[39m\u001b[38;5;241m=\u001b[39m\u001b[38;5;28;01mTrue\u001b[39;00m)\n\u001b[0;32m    532\u001b[0m \u001b[38;5;28;01mdef\u001b[39;00m \u001b[38;5;21muser_timeline\u001b[39m(\u001b[38;5;28mself\u001b[39m, \u001b[38;5;241m*\u001b[39m\u001b[38;5;241m*\u001b[39mkwargs):\n\u001b[0;32m    533\u001b[0m     \u001b[38;5;124;03m\"\"\"user_timeline(*, user_id, screen_name, since_id, count, max_id, \\\u001b[39;00m\n\u001b[0;32m    534\u001b[0m \u001b[38;5;124;03m                     trim_user, exclude_replies, include_rts)\u001b[39;00m\n\u001b[0;32m    535\u001b[0m \n\u001b[1;32m   (...)\u001b[0m\n\u001b[0;32m    569\u001b[0m \u001b[38;5;124;03m    https://developer.twitter.com/en/docs/twitter-api/v1/tweets/timelines/api-reference/get-statuses-user_timeline\u001b[39;00m\n\u001b[0;32m    570\u001b[0m \u001b[38;5;124;03m    \"\"\"\u001b[39;00m\n\u001b[1;32m--> 571\u001b[0m     \u001b[38;5;28;01mreturn\u001b[39;00m \u001b[38;5;28mself\u001b[39m\u001b[38;5;241m.\u001b[39mrequest(\n\u001b[0;32m    572\u001b[0m         \u001b[38;5;124m'\u001b[39m\u001b[38;5;124mGET\u001b[39m\u001b[38;5;124m'\u001b[39m, \u001b[38;5;124m'\u001b[39m\u001b[38;5;124mstatuses/user_timeline\u001b[39m\u001b[38;5;124m'\u001b[39m, endpoint_parameters\u001b[38;5;241m=\u001b[39m(\n\u001b[0;32m    573\u001b[0m             \u001b[38;5;124m'\u001b[39m\u001b[38;5;124muser_id\u001b[39m\u001b[38;5;124m'\u001b[39m, \u001b[38;5;124m'\u001b[39m\u001b[38;5;124mscreen_name\u001b[39m\u001b[38;5;124m'\u001b[39m, \u001b[38;5;124m'\u001b[39m\u001b[38;5;124msince_id\u001b[39m\u001b[38;5;124m'\u001b[39m, \u001b[38;5;124m'\u001b[39m\u001b[38;5;124mcount\u001b[39m\u001b[38;5;124m'\u001b[39m, \u001b[38;5;124m'\u001b[39m\u001b[38;5;124mmax_id\u001b[39m\u001b[38;5;124m'\u001b[39m,\n\u001b[0;32m    574\u001b[0m             \u001b[38;5;124m'\u001b[39m\u001b[38;5;124mtrim_user\u001b[39m\u001b[38;5;124m'\u001b[39m, \u001b[38;5;124m'\u001b[39m\u001b[38;5;124mexclude_replies\u001b[39m\u001b[38;5;124m'\u001b[39m, \u001b[38;5;124m'\u001b[39m\u001b[38;5;124minclude_rts\u001b[39m\u001b[38;5;124m'\u001b[39m\n\u001b[0;32m    575\u001b[0m         ), \u001b[38;5;241m*\u001b[39m\u001b[38;5;241m*\u001b[39mkwargs\n\u001b[0;32m    576\u001b[0m     )\n",
      "File \u001b[1;32m~\\anaconda3\\lib\\site-packages\\tweepy\\api.py:255\u001b[0m, in \u001b[0;36mAPI.request\u001b[1;34m(self, method, endpoint, endpoint_parameters, params, headers, json_payload, parser, payload_list, payload_type, post_data, files, require_auth, return_cursors, upload_api, use_cache, **kwargs)\u001b[0m\n\u001b[0;32m    253\u001b[0m \u001b[38;5;28mself\u001b[39m\u001b[38;5;241m.\u001b[39mlast_response \u001b[38;5;241m=\u001b[39m resp\n\u001b[0;32m    254\u001b[0m \u001b[38;5;28;01mif\u001b[39;00m resp\u001b[38;5;241m.\u001b[39mstatus_code \u001b[38;5;241m==\u001b[39m \u001b[38;5;241m400\u001b[39m:\n\u001b[1;32m--> 255\u001b[0m     \u001b[38;5;28;01mraise\u001b[39;00m BadRequest(resp)\n\u001b[0;32m    256\u001b[0m \u001b[38;5;28;01mif\u001b[39;00m resp\u001b[38;5;241m.\u001b[39mstatus_code \u001b[38;5;241m==\u001b[39m \u001b[38;5;241m401\u001b[39m:\n\u001b[0;32m    257\u001b[0m     \u001b[38;5;28;01mraise\u001b[39;00m Unauthorized(resp)\n",
      "\u001b[1;31mBadRequest\u001b[0m: 400 Bad Request\n215 - Bad Authentication data."
     ]
    }
   ],
   "source": [
    "posts = api.user_timeline(screen_name=\"BillGates\", count=100, tweet_mode=\"extended\")\n",
    "\n",
    "print('Show the last 5 tweets')\n",
    "for tweets in range[0:5]:\n",
    "    print(tweet.full_text + '\\n')\n"
   ]
  },
  {
   "cell_type": "code",
   "execution_count": 16,
   "id": "e8fdfe5e",
   "metadata": {},
   "outputs": [],
   "source": [
    "consumerKey = \"GcwiyL6wij6Mjkd5cRdKBShWN\"\n",
    "consumerSecret = \"k3KiCLF1550VUgXf5vMRI4SVUGgvUstr5LQTB16ABhHpkmyDnm\"\n",
    "accessToken = \"1257041093469900800-UUSSeogHyzVEPj3tFqvlVHoZa0l5jT\"\n",
    "accessTokenSecret = \"6KlVYXzxyx18m1WTMeU6E5TCNdAER1hz4C4mK1iR4qd1k\""
   ]
  },
  {
   "cell_type": "code",
   "execution_count": 17,
   "id": "1fef9519",
   "metadata": {},
   "outputs": [],
   "source": [
    "authenticate = tweepy.OAuthHandler(consumerKey, consumerSecret )\n",
    "authenticate.set_access_token(accessToken, accessTokenSecret)\n",
    "api = tweepy.API(authenticate, wait_on_rate_limit = True)"
   ]
  },
  {
   "cell_type": "code",
   "execution_count": 18,
   "id": "f18b8268",
   "metadata": {},
   "outputs": [
    {
     "ename": "Forbidden",
     "evalue": "403 Forbidden\n453 - You currently have Essential access which includes access to Twitter API v2 endpoints only. If you need access to this endpoint, you’ll need to apply for Elevated access via the Developer Portal. You can learn more here: https://developer.twitter.com/en/docs/twitter-api/getting-started/about-twitter-api#v2-access-leve",
     "output_type": "error",
     "traceback": [
      "\u001b[1;31m---------------------------------------------------------------------------\u001b[0m",
      "\u001b[1;31mForbidden\u001b[0m                                 Traceback (most recent call last)",
      "Input \u001b[1;32mIn [18]\u001b[0m, in \u001b[0;36m<cell line: 1>\u001b[1;34m()\u001b[0m\n\u001b[1;32m----> 1\u001b[0m posts \u001b[38;5;241m=\u001b[39m \u001b[43mapi\u001b[49m\u001b[38;5;241;43m.\u001b[39;49m\u001b[43muser_timeline\u001b[49m\u001b[43m(\u001b[49m\u001b[43mscreen_name\u001b[49m\u001b[38;5;241;43m=\u001b[39;49m\u001b[38;5;124;43m\"\u001b[39;49m\u001b[38;5;124;43mBillGates\u001b[39;49m\u001b[38;5;124;43m\"\u001b[39;49m\u001b[43m,\u001b[49m\u001b[43m \u001b[49m\u001b[43mcount\u001b[49m\u001b[38;5;241;43m=\u001b[39;49m\u001b[38;5;241;43m100\u001b[39;49m\u001b[43m,\u001b[49m\u001b[43m \u001b[49m\u001b[43mtweet_mode\u001b[49m\u001b[38;5;241;43m=\u001b[39;49m\u001b[38;5;124;43m\"\u001b[39;49m\u001b[38;5;124;43mextended\u001b[39;49m\u001b[38;5;124;43m\"\u001b[39;49m\u001b[43m)\u001b[49m\n\u001b[0;32m      3\u001b[0m \u001b[38;5;28mprint\u001b[39m(\u001b[38;5;124m'\u001b[39m\u001b[38;5;124mShow the last 5 tweets\u001b[39m\u001b[38;5;124m'\u001b[39m)\n\u001b[0;32m      4\u001b[0m \u001b[38;5;28;01mfor\u001b[39;00m tweets \u001b[38;5;129;01min\u001b[39;00m \u001b[38;5;28mrange\u001b[39m[\u001b[38;5;241m0\u001b[39m:\u001b[38;5;241m5\u001b[39m]:\n",
      "File \u001b[1;32m~\\anaconda3\\lib\\site-packages\\tweepy\\api.py:33\u001b[0m, in \u001b[0;36mpagination.<locals>.decorator.<locals>.wrapper\u001b[1;34m(*args, **kwargs)\u001b[0m\n\u001b[0;32m     31\u001b[0m \u001b[38;5;129m@functools\u001b[39m\u001b[38;5;241m.\u001b[39mwraps(method)\n\u001b[0;32m     32\u001b[0m \u001b[38;5;28;01mdef\u001b[39;00m \u001b[38;5;21mwrapper\u001b[39m(\u001b[38;5;241m*\u001b[39margs, \u001b[38;5;241m*\u001b[39m\u001b[38;5;241m*\u001b[39mkwargs):\n\u001b[1;32m---> 33\u001b[0m     \u001b[38;5;28;01mreturn\u001b[39;00m method(\u001b[38;5;241m*\u001b[39margs, \u001b[38;5;241m*\u001b[39m\u001b[38;5;241m*\u001b[39mkwargs)\n",
      "File \u001b[1;32m~\\anaconda3\\lib\\site-packages\\tweepy\\api.py:46\u001b[0m, in \u001b[0;36mpayload.<locals>.decorator.<locals>.wrapper\u001b[1;34m(*args, **kwargs)\u001b[0m\n\u001b[0;32m     44\u001b[0m kwargs[\u001b[38;5;124m'\u001b[39m\u001b[38;5;124mpayload_list\u001b[39m\u001b[38;5;124m'\u001b[39m] \u001b[38;5;241m=\u001b[39m payload_list\n\u001b[0;32m     45\u001b[0m kwargs[\u001b[38;5;124m'\u001b[39m\u001b[38;5;124mpayload_type\u001b[39m\u001b[38;5;124m'\u001b[39m] \u001b[38;5;241m=\u001b[39m payload_type\n\u001b[1;32m---> 46\u001b[0m \u001b[38;5;28;01mreturn\u001b[39;00m method(\u001b[38;5;241m*\u001b[39margs, \u001b[38;5;241m*\u001b[39m\u001b[38;5;241m*\u001b[39mkwargs)\n",
      "File \u001b[1;32m~\\anaconda3\\lib\\site-packages\\tweepy\\api.py:571\u001b[0m, in \u001b[0;36mAPI.user_timeline\u001b[1;34m(self, **kwargs)\u001b[0m\n\u001b[0;32m    530\u001b[0m \u001b[38;5;129m@pagination\u001b[39m(mode\u001b[38;5;241m=\u001b[39m\u001b[38;5;124m'\u001b[39m\u001b[38;5;124mid\u001b[39m\u001b[38;5;124m'\u001b[39m)\n\u001b[0;32m    531\u001b[0m \u001b[38;5;129m@payload\u001b[39m(\u001b[38;5;124m'\u001b[39m\u001b[38;5;124mstatus\u001b[39m\u001b[38;5;124m'\u001b[39m, \u001b[38;5;28mlist\u001b[39m\u001b[38;5;241m=\u001b[39m\u001b[38;5;28;01mTrue\u001b[39;00m)\n\u001b[0;32m    532\u001b[0m \u001b[38;5;28;01mdef\u001b[39;00m \u001b[38;5;21muser_timeline\u001b[39m(\u001b[38;5;28mself\u001b[39m, \u001b[38;5;241m*\u001b[39m\u001b[38;5;241m*\u001b[39mkwargs):\n\u001b[0;32m    533\u001b[0m     \u001b[38;5;124;03m\"\"\"user_timeline(*, user_id, screen_name, since_id, count, max_id, \\\u001b[39;00m\n\u001b[0;32m    534\u001b[0m \u001b[38;5;124;03m                     trim_user, exclude_replies, include_rts)\u001b[39;00m\n\u001b[0;32m    535\u001b[0m \n\u001b[1;32m   (...)\u001b[0m\n\u001b[0;32m    569\u001b[0m \u001b[38;5;124;03m    https://developer.twitter.com/en/docs/twitter-api/v1/tweets/timelines/api-reference/get-statuses-user_timeline\u001b[39;00m\n\u001b[0;32m    570\u001b[0m \u001b[38;5;124;03m    \"\"\"\u001b[39;00m\n\u001b[1;32m--> 571\u001b[0m     \u001b[38;5;28;01mreturn\u001b[39;00m \u001b[38;5;28mself\u001b[39m\u001b[38;5;241m.\u001b[39mrequest(\n\u001b[0;32m    572\u001b[0m         \u001b[38;5;124m'\u001b[39m\u001b[38;5;124mGET\u001b[39m\u001b[38;5;124m'\u001b[39m, \u001b[38;5;124m'\u001b[39m\u001b[38;5;124mstatuses/user_timeline\u001b[39m\u001b[38;5;124m'\u001b[39m, endpoint_parameters\u001b[38;5;241m=\u001b[39m(\n\u001b[0;32m    573\u001b[0m             \u001b[38;5;124m'\u001b[39m\u001b[38;5;124muser_id\u001b[39m\u001b[38;5;124m'\u001b[39m, \u001b[38;5;124m'\u001b[39m\u001b[38;5;124mscreen_name\u001b[39m\u001b[38;5;124m'\u001b[39m, \u001b[38;5;124m'\u001b[39m\u001b[38;5;124msince_id\u001b[39m\u001b[38;5;124m'\u001b[39m, \u001b[38;5;124m'\u001b[39m\u001b[38;5;124mcount\u001b[39m\u001b[38;5;124m'\u001b[39m, \u001b[38;5;124m'\u001b[39m\u001b[38;5;124mmax_id\u001b[39m\u001b[38;5;124m'\u001b[39m,\n\u001b[0;32m    574\u001b[0m             \u001b[38;5;124m'\u001b[39m\u001b[38;5;124mtrim_user\u001b[39m\u001b[38;5;124m'\u001b[39m, \u001b[38;5;124m'\u001b[39m\u001b[38;5;124mexclude_replies\u001b[39m\u001b[38;5;124m'\u001b[39m, \u001b[38;5;124m'\u001b[39m\u001b[38;5;124minclude_rts\u001b[39m\u001b[38;5;124m'\u001b[39m\n\u001b[0;32m    575\u001b[0m         ), \u001b[38;5;241m*\u001b[39m\u001b[38;5;241m*\u001b[39mkwargs\n\u001b[0;32m    576\u001b[0m     )\n",
      "File \u001b[1;32m~\\anaconda3\\lib\\site-packages\\tweepy\\api.py:259\u001b[0m, in \u001b[0;36mAPI.request\u001b[1;34m(self, method, endpoint, endpoint_parameters, params, headers, json_payload, parser, payload_list, payload_type, post_data, files, require_auth, return_cursors, upload_api, use_cache, **kwargs)\u001b[0m\n\u001b[0;32m    257\u001b[0m     \u001b[38;5;28;01mraise\u001b[39;00m Unauthorized(resp)\n\u001b[0;32m    258\u001b[0m \u001b[38;5;28;01mif\u001b[39;00m resp\u001b[38;5;241m.\u001b[39mstatus_code \u001b[38;5;241m==\u001b[39m \u001b[38;5;241m403\u001b[39m:\n\u001b[1;32m--> 259\u001b[0m     \u001b[38;5;28;01mraise\u001b[39;00m Forbidden(resp)\n\u001b[0;32m    260\u001b[0m \u001b[38;5;28;01mif\u001b[39;00m resp\u001b[38;5;241m.\u001b[39mstatus_code \u001b[38;5;241m==\u001b[39m \u001b[38;5;241m404\u001b[39m:\n\u001b[0;32m    261\u001b[0m     \u001b[38;5;28;01mraise\u001b[39;00m NotFound(resp)\n",
      "\u001b[1;31mForbidden\u001b[0m: 403 Forbidden\n453 - You currently have Essential access which includes access to Twitter API v2 endpoints only. If you need access to this endpoint, you’ll need to apply for Elevated access via the Developer Portal. You can learn more here: https://developer.twitter.com/en/docs/twitter-api/getting-started/about-twitter-api#v2-access-leve"
     ]
    }
   ],
   "source": [
    "posts = api.user_timeline(screen_name=\"BillGates\", count=100, tweet_mode=\"extended\")\n",
    "\n",
    "print('Show the last 5 tweets')\n",
    "for tweets in range[0:5]:\n",
    "    print(tweet.full_text + '\\n')"
   ]
  },
  {
   "cell_type": "code",
   "execution_count": 19,
   "id": "cef9c361",
   "metadata": {},
   "outputs": [
    {
     "name": "stdout",
     "output_type": "stream",
     "text": [
      "Show the last 5 tweets\n"
     ]
    },
    {
     "ename": "TypeError",
     "evalue": "'type' object is not subscriptable",
     "output_type": "error",
     "traceback": [
      "\u001b[1;31m---------------------------------------------------------------------------\u001b[0m",
      "\u001b[1;31mTypeError\u001b[0m                                 Traceback (most recent call last)",
      "Input \u001b[1;32mIn [19]\u001b[0m, in \u001b[0;36m<cell line: 4>\u001b[1;34m()\u001b[0m\n\u001b[0;32m      1\u001b[0m posts \u001b[38;5;241m=\u001b[39m api\u001b[38;5;241m.\u001b[39muser_timeline(screen_name\u001b[38;5;241m=\u001b[39m\u001b[38;5;124m\"\u001b[39m\u001b[38;5;124mBillGates\u001b[39m\u001b[38;5;124m\"\u001b[39m, count\u001b[38;5;241m=\u001b[39m\u001b[38;5;241m100\u001b[39m, tweet_mode\u001b[38;5;241m=\u001b[39m\u001b[38;5;124m\"\u001b[39m\u001b[38;5;124mextended\u001b[39m\u001b[38;5;124m\"\u001b[39m)\n\u001b[0;32m      3\u001b[0m \u001b[38;5;28mprint\u001b[39m(\u001b[38;5;124m'\u001b[39m\u001b[38;5;124mShow the last 5 tweets\u001b[39m\u001b[38;5;124m'\u001b[39m)\n\u001b[1;32m----> 4\u001b[0m \u001b[38;5;28;01mfor\u001b[39;00m tweets \u001b[38;5;129;01min\u001b[39;00m \u001b[38;5;28;43mrange\u001b[39;49m\u001b[43m[\u001b[49m\u001b[38;5;241;43m0\u001b[39;49m\u001b[43m:\u001b[49m\u001b[38;5;241;43m5\u001b[39;49m\u001b[43m]\u001b[49m:\n\u001b[0;32m      5\u001b[0m     \u001b[38;5;28mprint\u001b[39m(tweet\u001b[38;5;241m.\u001b[39mfull_text \u001b[38;5;241m+\u001b[39m \u001b[38;5;124m'\u001b[39m\u001b[38;5;130;01m\\n\u001b[39;00m\u001b[38;5;124m'\u001b[39m)\n",
      "\u001b[1;31mTypeError\u001b[0m: 'type' object is not subscriptable"
     ]
    }
   ],
   "source": [
    "posts = api.user_timeline(screen_name=\"BillGates\", count=100, tweet_mode=\"extended\")\n",
    "\n",
    "print('Show the last 5 tweets')\n",
    "for tweets in range[0:5]:\n",
    "    print(tweet.full_text + '\\n')"
   ]
  },
  {
   "cell_type": "code",
   "execution_count": 20,
   "id": "a7c9216c",
   "metadata": {},
   "outputs": [
    {
     "name": "stdout",
     "output_type": "stream",
     "text": [
      "Show the last 5 tweets\n"
     ]
    },
    {
     "ename": "TypeError",
     "evalue": "'type' object is not subscriptable",
     "output_type": "error",
     "traceback": [
      "\u001b[1;31m---------------------------------------------------------------------------\u001b[0m",
      "\u001b[1;31mTypeError\u001b[0m                                 Traceback (most recent call last)",
      "Input \u001b[1;32mIn [20]\u001b[0m, in \u001b[0;36m<cell line: 4>\u001b[1;34m()\u001b[0m\n\u001b[0;32m      1\u001b[0m posts \u001b[38;5;241m=\u001b[39m api\u001b[38;5;241m.\u001b[39muser_timeline(screen_name\u001b[38;5;241m=\u001b[39m\u001b[38;5;124m\"\u001b[39m\u001b[38;5;124mBillGates\u001b[39m\u001b[38;5;124m\"\u001b[39m, count\u001b[38;5;241m=\u001b[39m\u001b[38;5;241m100\u001b[39m, tweet_mode\u001b[38;5;241m=\u001b[39m\u001b[38;5;124m\"\u001b[39m\u001b[38;5;124mextended\u001b[39m\u001b[38;5;124m\"\u001b[39m)\n\u001b[0;32m      3\u001b[0m \u001b[38;5;28mprint\u001b[39m(\u001b[38;5;124m'\u001b[39m\u001b[38;5;124mShow the last 5 tweets\u001b[39m\u001b[38;5;124m'\u001b[39m)\n\u001b[1;32m----> 4\u001b[0m \u001b[38;5;28;01mfor\u001b[39;00m tweet \u001b[38;5;129;01min\u001b[39;00m \u001b[38;5;28;43mrange\u001b[39;49m\u001b[43m[\u001b[49m\u001b[38;5;241;43m0\u001b[39;49m\u001b[43m:\u001b[49m\u001b[38;5;241;43m5\u001b[39;49m\u001b[43m]\u001b[49m:\n\u001b[0;32m      5\u001b[0m     \u001b[38;5;28mprint\u001b[39m(tweet\u001b[38;5;241m.\u001b[39mfull_text \u001b[38;5;241m+\u001b[39m \u001b[38;5;124m'\u001b[39m\u001b[38;5;130;01m\\n\u001b[39;00m\u001b[38;5;124m'\u001b[39m)\n",
      "\u001b[1;31mTypeError\u001b[0m: 'type' object is not subscriptable"
     ]
    }
   ],
   "source": [
    "posts = api.user_timeline(screen_name=\"BillGates\", count=100, tweet_mode=\"extended\")\n",
    "\n",
    "print('Show the last 5 tweets')\n",
    "for tweet in range[0:5]:\n",
    "    print(tweet.full_text + '\\n')"
   ]
  },
  {
   "cell_type": "code",
   "execution_count": 21,
   "id": "2eeb7ab0",
   "metadata": {},
   "outputs": [
    {
     "name": "stdout",
     "output_type": "stream",
     "text": [
      "Show the last 5 tweets\n"
     ]
    },
    {
     "ename": "NameError",
     "evalue": "name 'tweet' is not defined",
     "output_type": "error",
     "traceback": [
      "\u001b[1;31m---------------------------------------------------------------------------\u001b[0m",
      "\u001b[1;31mNameError\u001b[0m                                 Traceback (most recent call last)",
      "Input \u001b[1;32mIn [21]\u001b[0m, in \u001b[0;36m<cell line: 4>\u001b[1;34m()\u001b[0m\n\u001b[0;32m      3\u001b[0m \u001b[38;5;28mprint\u001b[39m(\u001b[38;5;124m'\u001b[39m\u001b[38;5;124mShow the last 5 tweets\u001b[39m\u001b[38;5;124m'\u001b[39m)\n\u001b[0;32m      4\u001b[0m \u001b[38;5;28;01mfor\u001b[39;00m tweets \u001b[38;5;129;01min\u001b[39;00m posts[\u001b[38;5;241m0\u001b[39m:\u001b[38;5;241m5\u001b[39m]:\n\u001b[1;32m----> 5\u001b[0m     \u001b[38;5;28mprint\u001b[39m(\u001b[43mtweet\u001b[49m\u001b[38;5;241m.\u001b[39mfull_text \u001b[38;5;241m+\u001b[39m \u001b[38;5;124m'\u001b[39m\u001b[38;5;130;01m\\n\u001b[39;00m\u001b[38;5;124m'\u001b[39m)\n",
      "\u001b[1;31mNameError\u001b[0m: name 'tweet' is not defined"
     ]
    }
   ],
   "source": [
    "posts = api.user_timeline(screen_name=\"BillGates\", count=100, tweet_mode=\"extended\")\n",
    "\n",
    "print('Show the last 5 tweets')\n",
    "for tweets in posts[0:5]:\n",
    "    print(tweet.full_text + '\\n')"
   ]
  },
  {
   "cell_type": "code",
   "execution_count": 24,
   "id": "ab36a967",
   "metadata": {},
   "outputs": [
    {
     "name": "stdout",
     "output_type": "stream",
     "text": [
      "Show the last 5 tweets\n",
      "1) Changing mindsets is never easy, but Sudha Varghese empowers girls to believe in themselves and see their potential for greatness: https://t.co/IJ0LM8wJHd https://t.co/qOR3gsGV6s\n",
      "\n",
      "2) In February 2020, we had a degree of optimism that the world was better prepared to respond to COVID-19. Two years later, we gathered to discuss lessons learned that might help us prevent the next pandemic. https://t.co/k5zZndEebw\n",
      "\n",
      "3) A world without tuberculosis is attainable if we deliver effective diagnostics &amp; treatment to all who need it. Fully funding The Global Fund will get us on track to end TB and save 20 million more lives. https://t.co/1PbBpDBls8\n",
      "\n",
      "4) Madeleine Albright made history in so many ways during her lifetime, including as the first female Secretary of State. Today the world lost an advocate for peace and a visionary who believed in our common humanity. https://t.co/oOvw2bjYIG\n",
      "\n",
      "5) Every day I’m reminded of how my dad’s wisdom, generosity, and compassion lives on in the many people he influenced and inspired around the world: https://t.co/JfsS3Go37B https://t.co/AuO43mvGOF\n",
      "\n"
     ]
    }
   ],
   "source": [
    "posts = api.user_timeline(screen_name=\"BillGates\", count=100, tweet_mode=\"extended\")\n",
    "\n",
    "print('Show the last 5 tweets')\n",
    "i = 1\n",
    "for tweet in posts[0:5]:\n",
    "    print(str(i) + ') ' + tweet.full_text + '\\n')\n",
    "    i = i + 1"
   ]
  },
  {
   "cell_type": "code",
   "execution_count": 25,
   "id": "ee2de8f2",
   "metadata": {},
   "outputs": [
    {
     "data": {
      "text/html": [
       "<div>\n",
       "<style scoped>\n",
       "    .dataframe tbody tr th:only-of-type {\n",
       "        vertical-align: middle;\n",
       "    }\n",
       "\n",
       "    .dataframe tbody tr th {\n",
       "        vertical-align: top;\n",
       "    }\n",
       "\n",
       "    .dataframe thead th {\n",
       "        text-align: right;\n",
       "    }\n",
       "</style>\n",
       "<table border=\"1\" class=\"dataframe\">\n",
       "  <thead>\n",
       "    <tr style=\"text-align: right;\">\n",
       "      <th></th>\n",
       "      <th>Tweets</th>\n",
       "    </tr>\n",
       "  </thead>\n",
       "  <tbody>\n",
       "    <tr>\n",
       "      <th>0</th>\n",
       "      <td>Changing mindsets is never easy, but Sudha Var...</td>\n",
       "    </tr>\n",
       "    <tr>\n",
       "      <th>1</th>\n",
       "      <td>In February 2020, we had a degree of optimism ...</td>\n",
       "    </tr>\n",
       "    <tr>\n",
       "      <th>2</th>\n",
       "      <td>A world without tuberculosis is attainable if ...</td>\n",
       "    </tr>\n",
       "    <tr>\n",
       "      <th>3</th>\n",
       "      <td>Madeleine Albright made history in so many way...</td>\n",
       "    </tr>\n",
       "    <tr>\n",
       "      <th>4</th>\n",
       "      <td>Every day I’m reminded of how my dad’s wisdom,...</td>\n",
       "    </tr>\n",
       "  </tbody>\n",
       "</table>\n",
       "</div>"
      ],
      "text/plain": [
       "                                              Tweets\n",
       "0  Changing mindsets is never easy, but Sudha Var...\n",
       "1  In February 2020, we had a degree of optimism ...\n",
       "2  A world without tuberculosis is attainable if ...\n",
       "3  Madeleine Albright made history in so many way...\n",
       "4  Every day I’m reminded of how my dad’s wisdom,..."
      ]
     },
     "execution_count": 25,
     "metadata": {},
     "output_type": "execute_result"
    }
   ],
   "source": [
    "#Create a dataframe with columns named tweets\n",
    "df = pd.DataFrame( [tweet.full_text for tweet in posts], columns=['Tweets'])\n",
    "\n",
    "#Show the first rows of data\n",
    "df.head()"
   ]
  },
  {
   "cell_type": "code",
   "execution_count": 26,
   "id": "f8f2f4c4",
   "metadata": {},
   "outputs": [
    {
     "data": {
      "text/html": [
       "<div>\n",
       "<style scoped>\n",
       "    .dataframe tbody tr th:only-of-type {\n",
       "        vertical-align: middle;\n",
       "    }\n",
       "\n",
       "    .dataframe tbody tr th {\n",
       "        vertical-align: top;\n",
       "    }\n",
       "\n",
       "    .dataframe thead th {\n",
       "        text-align: right;\n",
       "    }\n",
       "</style>\n",
       "<table border=\"1\" class=\"dataframe\">\n",
       "  <thead>\n",
       "    <tr style=\"text-align: right;\">\n",
       "      <th></th>\n",
       "      <th>Tweets</th>\n",
       "    </tr>\n",
       "  </thead>\n",
       "  <tbody>\n",
       "    <tr>\n",
       "      <th>0</th>\n",
       "      <td>Changing mindsets is never easy, but Sudha Var...</td>\n",
       "    </tr>\n",
       "    <tr>\n",
       "      <th>1</th>\n",
       "      <td>In February 2020, we had a degree of optimism ...</td>\n",
       "    </tr>\n",
       "    <tr>\n",
       "      <th>2</th>\n",
       "      <td>A world without tuberculosis is attainable if ...</td>\n",
       "    </tr>\n",
       "    <tr>\n",
       "      <th>3</th>\n",
       "      <td>Madeleine Albright made history in so many way...</td>\n",
       "    </tr>\n",
       "    <tr>\n",
       "      <th>4</th>\n",
       "      <td>Every day I’m reminded of how my dad’s wisdom,...</td>\n",
       "    </tr>\n",
       "    <tr>\n",
       "      <th>...</th>\n",
       "      <td>...</td>\n",
       "    </tr>\n",
       "    <tr>\n",
       "      <th>95</th>\n",
       "      <td>The groundbreaking RTS,S vaccine will help sav...</td>\n",
       "    </tr>\n",
       "    <tr>\n",
       "      <th>96</th>\n",
       "      <td>Robots will play a huge part in our future, an...</td>\n",
       "    </tr>\n",
       "    <tr>\n",
       "      <th>97</th>\n",
       "      <td>Accelerating long-duration energy storage inno...</td>\n",
       "    </tr>\n",
       "    <tr>\n",
       "      <th>98</th>\n",
       "      <td>The  is supporting GIISER which is working to ...</td>\n",
       "    </tr>\n",
       "    <tr>\n",
       "      <th>99</th>\n",
       "      <td>South Africa did the right thing by reporting ...</td>\n",
       "    </tr>\n",
       "  </tbody>\n",
       "</table>\n",
       "<p>100 rows × 1 columns</p>\n",
       "</div>"
      ],
      "text/plain": [
       "                                               Tweets\n",
       "0   Changing mindsets is never easy, but Sudha Var...\n",
       "1   In February 2020, we had a degree of optimism ...\n",
       "2   A world without tuberculosis is attainable if ...\n",
       "3   Madeleine Albright made history in so many way...\n",
       "4   Every day I’m reminded of how my dad’s wisdom,...\n",
       "..                                                ...\n",
       "95  The groundbreaking RTS,S vaccine will help sav...\n",
       "96  Robots will play a huge part in our future, an...\n",
       "97  Accelerating long-duration energy storage inno...\n",
       "98  The  is supporting GIISER which is working to ...\n",
       "99  South Africa did the right thing by reporting ...\n",
       "\n",
       "[100 rows x 1 columns]"
      ]
     },
     "execution_count": 26,
     "metadata": {},
     "output_type": "execute_result"
    }
   ],
   "source": [
    "#Clean the text\n",
    "#Create a function to clean the tweets\n",
    "\n",
    "def cleanTxt(text):\n",
    "    text = re.sub(r'@[A-Za-z0-9]+', '', text) #Removes @ mentions\n",
    "    text = re.sub(r'#', '', text) #Removing the # symbol\n",
    "    text = re.sub(r'RT[\\s]+', '', text) #Removing RT\n",
    "    text = re.sub(r'https?:\\/\\/\\S+', '', text) #Removing the hyper link\n",
    "    \n",
    "    return text\n",
    "\n",
    "#Cleaning the data\n",
    "df['Tweets']= df['Tweets'].apply(cleanTxt)\n",
    "\n",
    "#Show the cleaned text\n",
    "df"
   ]
  },
  {
   "cell_type": "code",
   "execution_count": 27,
   "id": "9365434e",
   "metadata": {},
   "outputs": [
    {
     "data": {
      "text/html": [
       "<div>\n",
       "<style scoped>\n",
       "    .dataframe tbody tr th:only-of-type {\n",
       "        vertical-align: middle;\n",
       "    }\n",
       "\n",
       "    .dataframe tbody tr th {\n",
       "        vertical-align: top;\n",
       "    }\n",
       "\n",
       "    .dataframe thead th {\n",
       "        text-align: right;\n",
       "    }\n",
       "</style>\n",
       "<table border=\"1\" class=\"dataframe\">\n",
       "  <thead>\n",
       "    <tr style=\"text-align: right;\">\n",
       "      <th></th>\n",
       "      <th>Tweets</th>\n",
       "      <th>Subjectivity</th>\n",
       "      <th>Polarity</th>\n",
       "    </tr>\n",
       "  </thead>\n",
       "  <tbody>\n",
       "    <tr>\n",
       "      <th>0</th>\n",
       "      <td>Changing mindsets is never easy, but Sudha Var...</td>\n",
       "      <td>0.916667</td>\n",
       "      <td>-0.108333</td>\n",
       "    </tr>\n",
       "    <tr>\n",
       "      <th>1</th>\n",
       "      <td>In February 2020, we had a degree of optimism ...</td>\n",
       "      <td>0.166667</td>\n",
       "      <td>0.166667</td>\n",
       "    </tr>\n",
       "    <tr>\n",
       "      <th>2</th>\n",
       "      <td>A world without tuberculosis is attainable if ...</td>\n",
       "      <td>0.433333</td>\n",
       "      <td>0.366667</td>\n",
       "    </tr>\n",
       "    <tr>\n",
       "      <th>3</th>\n",
       "      <td>Madeleine Albright made history in so many way...</td>\n",
       "      <td>0.375000</td>\n",
       "      <td>0.112500</td>\n",
       "    </tr>\n",
       "    <tr>\n",
       "      <th>4</th>\n",
       "      <td>Every day I’m reminded of how my dad’s wisdom,...</td>\n",
       "      <td>0.500000</td>\n",
       "      <td>0.500000</td>\n",
       "    </tr>\n",
       "    <tr>\n",
       "      <th>...</th>\n",
       "      <td>...</td>\n",
       "      <td>...</td>\n",
       "      <td>...</td>\n",
       "    </tr>\n",
       "    <tr>\n",
       "      <th>95</th>\n",
       "      <td>The groundbreaking RTS,S vaccine will help sav...</td>\n",
       "      <td>0.454545</td>\n",
       "      <td>0.136364</td>\n",
       "    </tr>\n",
       "    <tr>\n",
       "      <th>96</th>\n",
       "      <td>Robots will play a huge part in our future, an...</td>\n",
       "      <td>0.615625</td>\n",
       "      <td>0.221875</td>\n",
       "    </tr>\n",
       "    <tr>\n",
       "      <th>97</th>\n",
       "      <td>Accelerating long-duration energy storage inno...</td>\n",
       "      <td>0.875000</td>\n",
       "      <td>0.375000</td>\n",
       "    </tr>\n",
       "    <tr>\n",
       "      <th>98</th>\n",
       "      <td>The  is supporting GIISER which is working to ...</td>\n",
       "      <td>0.287500</td>\n",
       "      <td>0.187500</td>\n",
       "    </tr>\n",
       "    <tr>\n",
       "      <th>99</th>\n",
       "      <td>South Africa did the right thing by reporting ...</td>\n",
       "      <td>0.607143</td>\n",
       "      <td>0.183810</td>\n",
       "    </tr>\n",
       "  </tbody>\n",
       "</table>\n",
       "<p>100 rows × 3 columns</p>\n",
       "</div>"
      ],
      "text/plain": [
       "                                               Tweets  Subjectivity  Polarity\n",
       "0   Changing mindsets is never easy, but Sudha Var...      0.916667 -0.108333\n",
       "1   In February 2020, we had a degree of optimism ...      0.166667  0.166667\n",
       "2   A world without tuberculosis is attainable if ...      0.433333  0.366667\n",
       "3   Madeleine Albright made history in so many way...      0.375000  0.112500\n",
       "4   Every day I’m reminded of how my dad’s wisdom,...      0.500000  0.500000\n",
       "..                                                ...           ...       ...\n",
       "95  The groundbreaking RTS,S vaccine will help sav...      0.454545  0.136364\n",
       "96  Robots will play a huge part in our future, an...      0.615625  0.221875\n",
       "97  Accelerating long-duration energy storage inno...      0.875000  0.375000\n",
       "98  The  is supporting GIISER which is working to ...      0.287500  0.187500\n",
       "99  South Africa did the right thing by reporting ...      0.607143  0.183810\n",
       "\n",
       "[100 rows x 3 columns]"
      ]
     },
     "execution_count": 27,
     "metadata": {},
     "output_type": "execute_result"
    }
   ],
   "source": [
    "#Create a function to get subjectivity\n",
    "\n",
    "def getSubjectivity(text):\n",
    "    return TextBlob(text).sentiment.subjectivity\n",
    "\n",
    "#Create a function to get the polarity\n",
    "def getPolarity(text):\n",
    "    return TextBlob(text).sentiment.polarity\n",
    "\n",
    "#Create two new columns\n",
    "df['Subjectivity'] = df['Tweets'].apply(getSubjectivity)\n",
    "df['Polarity'] = df['Tweets'].apply(getPolarity)\n",
    "\n",
    "#Show the new dataframe with the new columns\n",
    "df"
   ]
  },
  {
   "cell_type": "code",
   "execution_count": 28,
   "id": "e2071f37",
   "metadata": {},
   "outputs": [
    {
     "data": {
      "image/png": "[encoded data removed]",
      "text/plain": [
       "<Figure size 432x288 with 1 Axes>"
      ]
     },
     "metadata": {},
     "output_type": "display_data"
    }
   ],
   "source": [
    "#Plot Word Cloud\n",
    "\n",
    "allWords = ' '.join( [twts for twts in df['Tweets']])\n",
    "wordCloud = WordCloud(width = 500, height=300, random_state = 21, max_font_size = 119).generate(allWords)\n",
    "\n",
    "plt.imshow(wordCloud, interpolation = \"bilinear\")\n",
    "plt.axis('off')\n",
    "plt.show()"
   ]
  },
  {
   "cell_type": "code",
   "execution_count": 29,
   "id": "5dea52a0",
   "metadata": {},
   "outputs": [
    {
     "data": {
      "text/html": [
       "<div>\n",
       "<style scoped>\n",
       "    .dataframe tbody tr th:only-of-type {\n",
       "        vertical-align: middle;\n",
       "    }\n",
       "\n",
       "    .dataframe tbody tr th {\n",
       "        vertical-align: top;\n",
       "    }\n",
       "\n",
       "    .dataframe thead th {\n",
       "        text-align: right;\n",
       "    }\n",
       "</style>\n",
       "<table border=\"1\" class=\"dataframe\">\n",
       "  <thead>\n",
       "    <tr style=\"text-align: right;\">\n",
       "      <th></th>\n",
       "      <th>Tweets</th>\n",
       "      <th>Subjectivity</th>\n",
       "      <th>Polarity</th>\n",
       "      <th>Analysis</th>\n",
       "    </tr>\n",
       "  </thead>\n",
       "  <tbody>\n",
       "    <tr>\n",
       "      <th>0</th>\n",
       "      <td>Changing mindsets is never easy, but Sudha Var...</td>\n",
       "      <td>0.916667</td>\n",
       "      <td>-0.108333</td>\n",
       "      <td>Negative</td>\n",
       "    </tr>\n",
       "    <tr>\n",
       "      <th>1</th>\n",
       "      <td>In February 2020, we had a degree of optimism ...</td>\n",
       "      <td>0.166667</td>\n",
       "      <td>0.166667</td>\n",
       "      <td>Positive</td>\n",
       "    </tr>\n",
       "    <tr>\n",
       "      <th>2</th>\n",
       "      <td>A world without tuberculosis is attainable if ...</td>\n",
       "      <td>0.433333</td>\n",
       "      <td>0.366667</td>\n",
       "      <td>Positive</td>\n",
       "    </tr>\n",
       "    <tr>\n",
       "      <th>3</th>\n",
       "      <td>Madeleine Albright made history in so many way...</td>\n",
       "      <td>0.375000</td>\n",
       "      <td>0.112500</td>\n",
       "      <td>Positive</td>\n",
       "    </tr>\n",
       "    <tr>\n",
       "      <th>4</th>\n",
       "      <td>Every day I’m reminded of how my dad’s wisdom,...</td>\n",
       "      <td>0.500000</td>\n",
       "      <td>0.500000</td>\n",
       "      <td>Positive</td>\n",
       "    </tr>\n",
       "    <tr>\n",
       "      <th>...</th>\n",
       "      <td>...</td>\n",
       "      <td>...</td>\n",
       "      <td>...</td>\n",
       "      <td>...</td>\n",
       "    </tr>\n",
       "    <tr>\n",
       "      <th>95</th>\n",
       "      <td>The groundbreaking RTS,S vaccine will help sav...</td>\n",
       "      <td>0.454545</td>\n",
       "      <td>0.136364</td>\n",
       "      <td>Positive</td>\n",
       "    </tr>\n",
       "    <tr>\n",
       "      <th>96</th>\n",
       "      <td>Robots will play a huge part in our future, an...</td>\n",
       "      <td>0.615625</td>\n",
       "      <td>0.221875</td>\n",
       "      <td>Positive</td>\n",
       "    </tr>\n",
       "    <tr>\n",
       "      <th>97</th>\n",
       "      <td>Accelerating long-duration energy storage inno...</td>\n",
       "      <td>0.875000</td>\n",
       "      <td>0.375000</td>\n",
       "      <td>Positive</td>\n",
       "    </tr>\n",
       "    <tr>\n",
       "      <th>98</th>\n",
       "      <td>The  is supporting GIISER which is working to ...</td>\n",
       "      <td>0.287500</td>\n",
       "      <td>0.187500</td>\n",
       "      <td>Positive</td>\n",
       "    </tr>\n",
       "    <tr>\n",
       "      <th>99</th>\n",
       "      <td>South Africa did the right thing by reporting ...</td>\n",
       "      <td>0.607143</td>\n",
       "      <td>0.183810</td>\n",
       "      <td>Positive</td>\n",
       "    </tr>\n",
       "  </tbody>\n",
       "</table>\n",
       "<p>100 rows × 4 columns</p>\n",
       "</div>"
      ],
      "text/plain": [
       "                                               Tweets  Subjectivity  Polarity  \\\n",
       "0   Changing mindsets is never easy, but Sudha Var...      0.916667 -0.108333   \n",
       "1   In February 2020, we had a degree of optimism ...      0.166667  0.166667   \n",
       "2   A world without tuberculosis is attainable if ...      0.433333  0.366667   \n",
       "3   Madeleine Albright made history in so many way...      0.375000  0.112500   \n",
       "4   Every day I’m reminded of how my dad’s wisdom,...      0.500000  0.500000   \n",
       "..                                                ...           ...       ...   \n",
       "95  The groundbreaking RTS,S vaccine will help sav...      0.454545  0.136364   \n",
       "96  Robots will play a huge part in our future, an...      0.615625  0.221875   \n",
       "97  Accelerating long-duration energy storage inno...      0.875000  0.375000   \n",
       "98  The  is supporting GIISER which is working to ...      0.287500  0.187500   \n",
       "99  South Africa did the right thing by reporting ...      0.607143  0.183810   \n",
       "\n",
       "    Analysis  \n",
       "0   Negative  \n",
       "1   Positive  \n",
       "2   Positive  \n",
       "3   Positive  \n",
       "4   Positive  \n",
       "..       ...  \n",
       "95  Positive  \n",
       "96  Positive  \n",
       "97  Positive  \n",
       "98  Positive  \n",
       "99  Positive  \n",
       "\n",
       "[100 rows x 4 columns]"
      ]
     },
     "execution_count": 29,
     "metadata": {},
     "output_type": "execute_result"
    }
   ],
   "source": [
    "#Create a function to compute negative, neutral and positive analysis\n",
    "\n",
    "def getAnalysis(score):\n",
    "    if score < 0:\n",
    "        return 'Negative'\n",
    "    elif score == 0:\n",
    "        return 'Neutral'\n",
    "    else:\n",
    "        return 'Positive'\n",
    "    \n",
    "\n",
    "df['Analysis'] = df['Polarity'].apply(getAnalysis)\n",
    "\n",
    "#Show the dataframe\n",
    "df"
   ]
  },
  {
   "cell_type": "code",
   "execution_count": 39,
   "id": "319cfdf6",
   "metadata": {},
   "outputs": [
    {
     "name": "stdout",
     "output_type": "stream",
     "text": [
      "1)In February 2020, we had a degree of optimism that the world was better prepared to respond to COVID-19. Two years later, we gathered to discuss lessons learned that might help us prevent the next pandemic. \n",
      "\n",
      "2)A world without tuberculosis is attainable if we deliver effective diagnostics &amp; treatment to all who need it. Fully funding The Global Fund will get us on track to end TB and save 20 million more lives. \n",
      "\n",
      "3)Madeleine Albright made history in so many ways during her lifetime, including as the first female Secretary of State. Today the world lost an advocate for peace and a visionary who believed in our common humanity. \n",
      "\n",
      "4)Every day I’m reminded of how my dad’s wisdom, generosity, and compassion lives on in the many people he influenced and inspired around the world:  \n",
      "\n",
      "5)Sudha Varghese runs a school in Bihar, India that teaches students how to stand up for themselves and see their own potential for greatness.  \n",
      "\n",
      "6)Shumaila Rehamani is a polio vaccinator in Pakistan. She talks with families and community leaders to answer all their questions about the importance of vaccination. She makes sure every child in her community is protected from this disease.  \n",
      "\n",
      "7)Mamello Makhele is a nurse-midwife working to improve health care for women in rural Lesotho, where there are high rates of maternal mortality. Thanks to her incredible work, many women are healthier today in Lesotho. \n",
      "\n",
      "8)Brooke Brown, the 2021 Washington State Teacher of the Year, helps high school seniors explore their identity. She is a phenomenal teacher and was kind enough to show me one of her favorite lessons to teach.  \n",
      "\n",
      "9)I've been lucky to meet and learn from so many changemakers. These incredible women continue to inspire me. ⬇️\n",
      "\n",
      "10)One of the most significant ways my dad’s spirit continues is through the _Cambridge Scholarship. Of all the grants he was involved in at our foundation, this one was always his favorite. \n",
      "\n",
      "11)By acting now and funding organizations like , we can help ensure the world never again experiences the hardship of a pandemic. I’m encouraged by the new commitments to groundbreaking R&amp;D made at the Global Pandemic Preparedness Summit. \n",
      "\n",
      "12)In a crisis, we can always look for the helpers—the people who are putting their lives on the line to aid refugees and victims of the invasion—and support them. I’m proud to support the UN’s refugee agency and urge the global community to do the same. \n",
      "\n",
      "13)It’s gut-wrenching to see the people of Ukraine suffering so much. The world feels especially heavy right now, with each day bringing news of families torn apart in Afghanistan, Ukraine, and so many other places.\n",
      "\n",
      "14)I’m optimistic about our ability to prevent the next pandemic. We have learned so much from COVID, and the innovations have been tremendous. \n",
      "\n",
      "15)The Global Fund is one of the best investments in global health. Fully funding its programs for the next 3 years is critical to ending HIV, TB, and malaria while helping ensure COVID-19 is the last pandemic. \n",
      "\n",
      "16)At the end of the day, Paul’s most lasting impact can be found in the patients he loved so dearly—all of the people who are alive today because he dedicated his life to helping them. \n",
      "\n",
      "17)His work will continue through Partners in Health, the incredible organization he co-founded. It is a phenomenal legacy.\n",
      "\n",
      "18)It has been over a year since wild polio paralyzed a child in Pakistan, presenting an incredible opportunity to stop this disease for good. I traveled to Pakistan to learn from their polio program leaders. \n",
      "\n",
      "19)I’m hopeful that the world can come together to end this pandemic and prevent the next one. Thanks Dax Shepard, Monica Padman, and  for the great conversation. \n",
      "\n",
      "20)The goal of no more pandemics ever is ambitious, but the progress we’ve made over the last two years has already set us on a path to success:  \n",
      "\n",
      "21)I’m more optimistic than ever that we can one day stop Alzheimer’s because of research like this. \n",
      "\n",
      "22)Significant climate progress is possible in 2022 if we commit to bold action. With the support of our growing community of  Energy partners, we can accelerate the commercialization of the critical climate technologies we need to spark the green industrial revolution. \n",
      "\n",
      "23)The London Declaration on NTDs helped dozens of countries eliminate diseases &amp; reach hundreds of millions more people with treatments. On WorldNTDDay I welcome the Kigali Declaration to build on this success through strong country leadership. \n",
      "\n",
      "24)We’ve built an incredible organization in the  over two decades and I’m excited about the next chapter in our history. Our new board members will help us build a world where every person has an opportunity to lead a healthy, productive life  \n",
      "\n",
      "25)Kakenya Ntaiya bravely defied local traditions to make a different plan for her future and her community. In a society where young girls’ lives are often decided for them, she founded  to educate girls and end practices like child marriage:  \n",
      "\n",
      "26)This is an important reminder from . The world should not have to choose between saving lives from COVID-19 and saving lives from malaria. It’s possible to do both. \n",
      "\n",
      "27)European Commissioner  and I discussed the importance of multilateral partnerships like  in ending this pandemic and preventing another. \n",
      "\n",
      "28)The fight to eradicate HIV is far from over, but incredible progress has been made through scientific innovation, activism, and collective global action. These lessons provide a path forward with COVID-19 and hope for preventing the next pandemic. \n",
      "\n",
      "29)Thanks  for taking the time today to discuss omicron, vaccines, and how the world can come together to prevent the next pandemic. \n",
      "\n",
      "30):       We definitely can. Thanks for your time &amp; insights &amp; let's continue the goo…\n",
      "\n",
      "31)     .  has started the conversation about how we avoid the next pandemic which is important. I appreciate your work on this. We can do a lot better next time!!\n",
      "\n",
      "32)    A more transmissive variant is not likely but we have been surprised a lot during this pandemic. Omicron will create a lot of immunity at least for the next year.   tracks the genetics really well. We may have to take yearly shots for Covid for some time.\n",
      "\n",
      "33)    As countries experience their Omicron wave health systems will be challenged. Most of the severe cases will be unvaccinated people. Once Omicron goes through a country then the rest of the year should see far fewer cases so Covid can be treated more like seasonal flu.\n",
      "\n",
      "34):     Final question- what everyone wants to know -&gt; how and when will the pandemic be over? Does…\n",
      "\n",
      "35)    The data is pretty strong that it came from another species which is true for most pandemics. People will continue to speculate on this and we should make sure labs are careful. There will be future outbreaks coming from other species so we need to invest in being ready. \n",
      "\n",
      "36)    I am optimistic about polio eradication - we are close. Malaria, HIV, Nutrition, will take a lot longer but better tools are coming. Education also needs innovation - it is behind where global health is particularly for girls.\n",
      "\n",
      "37)    From 2000 to the start of the pandemic we made strong progress on health and other goals. The pandemic is a huge setback - including rich countries not focusing on the needs of developing countries as much. I hope we can reverse that.\n",
      "\n",
      "38)  Trusted authorities like   and  need more resources to see the pandemic early (surveillance) and to communicate better. Social media got behind on trying to get factual information out - there will be a lot of debate about how to do better on that...\n",
      "\n",
      "39):   I'm optimistic about the '100 day challenge'- the idea of sequencing a new genome to developing diagnosti…\n",
      "\n",
      "40)  Also some countries did a better job of reducing mobility, using masks and protecting the elderly.\n",
      "\n",
      "We weren't prepared - no practice in advance.\n",
      "\n",
      "41)  A few countries like Australia moved fast to diagnose cases at scale and isolate people who were infected. They were able to limit deaths dramatically. Once the numbers get large in a country it is too late. So the first few months made a lot of difference.\n",
      "\n",
      "42) When we have adequate supply then tiered pricing is used where the rich countries pay a lot more than middle income and low income pay the least which is funded by . When supply is limited rich countries have to not outbid the others so governments are key to this. \n",
      "\n",
      "43) During 2021 the supply of vaccines was limited and they mostly went to wealthy countries. Now we have a lot of supply overall and the problems are logistics and demand. The health systems in developing countries are a limiting factor.\n",
      "\n",
      "44) The vaccines we have prevent severe disease and death very well but they are missing two key things.\n",
      "\n",
      "First they still allow infections (\"breakthrough\") and the duration appears to be limited.\n",
      "\n",
      "We need vaccines that prevent re-infection and have many years of duration.\n",
      "\n",
      "45)I'm excited to talk with  today about her work at the University of Edinburgh Medical School and , and to answer some of your questions about what we’ve been learning recently about the pandemic. \n",
      "\n",
      "46)Through my foundation work I'm very lucky to have the opportunity to talk to—and learn from—experts in many different fields. Many of my conversations recently have been about the omicron variant and how to prevent the next pandemic. \n",
      "\n",
      "47)Understanding how the connections in our brains give rise to consciousness and our ability to learn may help lead to great breakthroughs in the way we solve the world’s hardest problems. This is one of the most fascinating books I read this year. \n",
      "\n",
      "48). is one of my favorite authors. I was eager to read his latest book about CRISPR and its inventor Jennifer Doudna:  \n",
      "\n",
      "49)Heroes like  are spreading important information, and hope, across South Africa with the help of an unusual and innovative tool:  \n",
      "\n",
      "50)The world has lost a hero. Archbishop Desmond Tutu led with his values, empathy and optimism. He put everyone he met at ease with his incredible laugh and energy. He inspired me with his sense of purpose to build peace out of the struggle of oppression. I will miss him greatly.\n",
      "\n",
      "51)One of my favorite holiday traditions is sharing books with family and friends. Here are 5 books I loved reading this year: \n",
      "\n",
      "52)Mamello Makhele is a hero from Lesotho who traveled by foot and donkey to bring health services to women in need during the pandemic. Her story is nothing short of inspiring:  \n",
      "\n",
      "53)If there’s good news here, it’s that omicron moves so quickly that once it becomes dominant in a country, the wave there should last less than 3 months. Those few months could be bad, but I still believe if we take the right steps, the pandemic can be over in 2022.\n",
      "\n",
      "54)There will be more breakthrough cases in people who are vx’d, which sounds concerning but is purely a factor of how many people are vx’d and how fast this variant is spreading. Vaccines are designed to prevent people from getting seriously ill or dying &amp; are doing that well.\n",
      "\n",
      "55)In the meantime, we all have to look out for each other, especially the most vulnerable, whether they live down the street or in another country. That means wearing masks, avoiding big indoor gatherings, and getting vaccinated. Getting a booster gives the best protection.\n",
      "\n",
      "56)In Tanzania, health workers and community members are serving as disease detectives with a new app called Afyadata:  \n",
      "\n",
      "57)I spoke to Prime Minister  about his new global health strategy and Japan’s commitment to the world’s poorest people. I’m encouraged to see this pledge and Japan’s recent leadership of the _IDA and Nutrition for Growth summits. \n",
      "\n",
      "58)Great to meet with  again to recognize Niger’s progress in the fight against neglected tropical diseases. His commitment to this fight, to polio eradication and to disease elimination at large will help save millions of lives. \n",
      "\n",
      "59)This order signed by President Biden signals a strong commitment to deploying the solutions we need to get to net-zero and avoid a climate disaster.  \n",
      "\n",
      "60)2021 was an incredibly hard year for many people, including me, but there are reasons to be optimistic that 2022 will be better:  \n",
      "\n",
      "61)Better nutrition can lead to shifts in health and productivity—boosting prosperity for families, communities, and economies. At the N4G2021 in Tokyo, I announced our support for ’s nutrition fund to ensure tools to combat malnutrition are available to those in need. \n",
      "\n",
      "62)2021 has been a year of big transitions for me, but it hasn’t changed why I love the work I do. Here are four things I’m thinking about heading into next year. \n",
      "\n",
      "63)The groundbreaking RTS,S vaccine will help save tens of thousands of children and is paving the way for a new pipeline of tools to EndMalaria. \n",
      "\n",
      "64)Robots will play a huge part in our future, and fiction like Kazuo Ishiguro's Klara and the Sun is a great way to explore what that might mean. \n",
      "\n",
      "65)Accelerating long-duration energy storage innovation can significantly reduce annual CO2 emissions and lay the foundation for a net-zero economy by 2050. \n",
      "\n",
      "66)The  is supporting GIISER which is working to increase the in-country capacity for rapid evaluation of variants on the African continent. This will help us better understand variants of concern and how the current vaccines may perform. \n",
      "\n",
      "67)South Africa did the right thing by reporting these cases. They have invested heavily in R&amp;D including genomic sequencing capabilities which have made it possible to quickly identify variants, like Omicron, and help the world respond appropriately.\n",
      "\n"
     ]
    }
   ],
   "source": [
    "#Print all positive tweets\n",
    "j=1\n",
    "sortedDF = df.sort_values(by=['Polarity'])\n",
    "for i in range(0, sortedDF.shape[0]):\n",
    "    if(sortedDF['Analysis'][i] == 'Positive'):\n",
    "        print(str(j) + ')' + sortedDF['Tweets'][i])\n",
    "        print()\n",
    "        j = j+1"
   ]
  },
  {
   "cell_type": "code",
   "execution_count": 40,
   "id": "692c0c3b",
   "metadata": {},
   "outputs": [
    {
     "name": "stdout",
     "output_type": "stream",
     "text": [
      "1) Changing mindsets is never easy, but Sudha Varghese empowers girls to believe in themselves and see their potential for greatness:  \n",
      "\n",
      "2) Kakenya Ntaiya founded  to enable girls’ education and end harmful traditional practices like child marriage. Her story is a powerful example of how one person’s act of bravery can spark dramatic change.  \n",
      "\n",
      "3) : I’ve spent my life working in agriculture, so when I think beyond the humanitarian toll I’m seeing in Ukraine, my focus a…\n",
      "\n",
      "4) What a devastating loss. Paul is a hero, and I was fortunate to call him a friend. I have never known anyone who was more passionate about reducing the world’s worst inequities in health—or who did more to live by his values. \n",
      "\n",
      "5) One person’s act of bravery can spark dramatic change in hundreds of lives. ’s story is a powerful example. \n",
      "\n",
      "6) I wholeheartedly agree with Larry's view that all companies need to be actively preparing for their net zero transition - shareholders, employees, customers, communities, and regulators expect it. \n",
      "\n",
      "7) The omicron surge is an unfortunate reminder that the only way to eliminate the threat of COVID-19 somewhere is to eliminate it everywhere. That’s why  is joining  to renew our investment in . \n",
      "\n",
      "8) ICYMI here’s a recap of my conversation with . We chatted about this pandemic, how to prevent the next one, and a few things in between. \n",
      "\n",
      "9) :     So tough question: where do you think SARS-CoV-2 came from? What data do you want to see? An…\n",
      "\n",
      "10)     People like you and I and Tony Fauci have been subject to a lot of misinformation. I didn't expect that. Some of it like me putting chips in arms doesn't make sense to me - why would I want to do that?\n",
      "\n",
      "11) :   One major problem has been online misinformation on Facebook &amp; other platforms around vaccines, masks and…\n",
      "\n",
      "12)   Do you think the world will come together to get ready for the next one? I hope so but I am not sure.\n",
      "\n",
      "13)  mRna vaccines still can't meet all the demand so figuring out who gets what is complicated.\n",
      "\n",
      "14) We have some, but not all, of the tools we need to hit our target of limiting global warming to less than 2 degrees. We need to prioritize closing that gap if we’re going to avoid a climate disaster:  \n",
      "\n",
      "15) I know it’s frustrating to go into another holiday season with COVID looming over us. But it won’t be like this forever. Someday the pandemic will end, and the better we look after each other, the sooner that time will come.\n",
      "\n",
      "16) The big unknown is how sick omicron makes you. We need to take it seriously until we know more about it. Even if it’s only half as severe as delta, it will be the worst surge we have seen so far because it’s so infectious.\n",
      "\n",
      "17) Just when it seemed like life would return to normal, we could be entering the worst part of the pandemic. Omicron will hit home for all of us. Close friends of mine now have it, and I’ve canceled most of my holiday plans.\n",
      "\n",
      "18) The Omicron variant is concerning, but the world is better prepared to tackle potentially bad variants than at any other point in the pandemic. Here’s why I’m still hopeful the end of the COVID-19 pandemic is finally in sight:  \n",
      "\n"
     ]
    }
   ],
   "source": [
    "#Print the negative tweets\n",
    "\n",
    "j=1\n",
    "sortedDF = df.sort_values(by=['Polarity'], ascending ='False')\n",
    "for i in range(0, sortedDF.shape[0]):\n",
    "    if( sortedDF['Analysis'][i] == 'Negative'):\n",
    "        print(str(j) + ') ' + sortedDF['Tweets'][i])\n",
    "        print()\n",
    "        j = j+1"
   ]
  },
  {
   "cell_type": "code",
   "execution_count": 43,
   "id": "a1eedfb0",
   "metadata": {},
   "outputs": [
    {
     "data": {
      "image/png": "[encoded data removed]",
      "text/plain": [
       "<Figure size 576x432 with 1 Axes>"
      ]
     },
     "metadata": {},
     "output_type": "display_data"
    }
   ],
   "source": [
    "#Plot the polarity and subjectivity\n",
    "plt.figure(figsize=(8,6))\n",
    "for i in range(0, df.shape[0]):\n",
    "    plt.scatter(df['Polarity'][i], df['Subjectivity'][i], color = 'Blue')\n",
    "    \n",
    "plt.title('Sentiment Analysis')\n",
    "plt.xlabel('Polarity')\n",
    "plt.ylabel('Subjectivity')\n",
    "plt.show()"
   ]
  },
  {
   "cell_type": "code",
   "execution_count": 45,
   "id": "8ccdeb22",
   "metadata": {},
   "outputs": [
    {
     "data": {
      "text/plain": [
       "67.0"
      ]
     },
     "execution_count": 45,
     "metadata": {},
     "output_type": "execute_result"
    }
   ],
   "source": [
    "#Get the percentage of the positive tweets\n",
    "\n",
    "ptweets = df[df.Analysis == 'Positive']\n",
    "ptweets = ptweets['Tweets']\n",
    "\n",
    "round((ptweets.shape[0] / df.shape[0]) * 100, 1)"
   ]
  },
  {
   "cell_type": "code",
   "execution_count": 46,
   "id": "c15d9238",
   "metadata": {},
   "outputs": [
    {
     "data": {
      "text/plain": [
       "18.0"
      ]
     },
     "execution_count": 46,
     "metadata": {},
     "output_type": "execute_result"
    }
   ],
   "source": [
    "#Get the percentage of the negative tweets\n",
    "\n",
    "ntweets = df[df.Analysis == 'Negative']\n",
    "ntweets = ntweets['Tweets']\n",
    "\n",
    "round((ntweets.shape[0] / df.shape[0]) * 100, 1)"
   ]
  },
  {
   "cell_type": "code",
   "execution_count": 47,
   "id": "7e71da56",
   "metadata": {},
   "outputs": [
    {
     "data": {
      "image/png": "[encoded data removed]",
      "text/plain": [
       "<Figure size 432x288 with 1 Axes>"
      ]
     },
     "metadata": {},
     "output_type": "display_data"
    }
   ],
   "source": [
    "#Show the value count\n",
    "\n",
    "df['Analysis'].value_counts()\n",
    "\n",
    "#plot and visualize the counts\n",
    "plt.title('Sentiment Analysis')\n",
    "plt.xlabel('Sentiment')\n",
    "plt.ylabel('Counts')\n",
    "df['Analysis'].value_counts().plot(kind='bar')\n",
    "plt.show()"
   ]
  },
  {
   "cell_type": "code",
   "execution_count": 48,
   "id": "6d14aa86",
   "metadata": {},
   "outputs": [
    {
     "data": {
      "text/html": [
       "<div>\n",
       "<style scoped>\n",
       "    .dataframe tbody tr th:only-of-type {\n",
       "        vertical-align: middle;\n",
       "    }\n",
       "\n",
       "    .dataframe tbody tr th {\n",
       "        vertical-align: top;\n",
       "    }\n",
       "\n",
       "    .dataframe thead th {\n",
       "        text-align: right;\n",
       "    }\n",
       "</style>\n",
       "<table border=\"1\" class=\"dataframe\">\n",
       "  <thead>\n",
       "    <tr style=\"text-align: right;\">\n",
       "      <th></th>\n",
       "      <th>Tweets</th>\n",
       "      <th>Subjectivity</th>\n",
       "      <th>Polarity</th>\n",
       "      <th>Analysis</th>\n",
       "    </tr>\n",
       "  </thead>\n",
       "  <tbody>\n",
       "    <tr>\n",
       "      <th>0</th>\n",
       "      <td>Changing mindsets is never easy, but Sudha Var...</td>\n",
       "      <td>0.916667</td>\n",
       "      <td>-0.108333</td>\n",
       "      <td>Negative</td>\n",
       "    </tr>\n",
       "    <tr>\n",
       "      <th>1</th>\n",
       "      <td>In February 2020, we had a degree of optimism ...</td>\n",
       "      <td>0.166667</td>\n",
       "      <td>0.166667</td>\n",
       "      <td>Positive</td>\n",
       "    </tr>\n",
       "    <tr>\n",
       "      <th>2</th>\n",
       "      <td>A world without tuberculosis is attainable if ...</td>\n",
       "      <td>0.433333</td>\n",
       "      <td>0.366667</td>\n",
       "      <td>Positive</td>\n",
       "    </tr>\n",
       "    <tr>\n",
       "      <th>3</th>\n",
       "      <td>Madeleine Albright made history in so many way...</td>\n",
       "      <td>0.375000</td>\n",
       "      <td>0.112500</td>\n",
       "      <td>Positive</td>\n",
       "    </tr>\n",
       "    <tr>\n",
       "      <th>4</th>\n",
       "      <td>Every day I’m reminded of how my dad’s wisdom,...</td>\n",
       "      <td>0.500000</td>\n",
       "      <td>0.500000</td>\n",
       "      <td>Positive</td>\n",
       "    </tr>\n",
       "    <tr>\n",
       "      <th>...</th>\n",
       "      <td>...</td>\n",
       "      <td>...</td>\n",
       "      <td>...</td>\n",
       "      <td>...</td>\n",
       "    </tr>\n",
       "    <tr>\n",
       "      <th>95</th>\n",
       "      <td>The groundbreaking RTS,S vaccine will help sav...</td>\n",
       "      <td>0.454545</td>\n",
       "      <td>0.136364</td>\n",
       "      <td>Positive</td>\n",
       "    </tr>\n",
       "    <tr>\n",
       "      <th>96</th>\n",
       "      <td>Robots will play a huge part in our future, an...</td>\n",
       "      <td>0.615625</td>\n",
       "      <td>0.221875</td>\n",
       "      <td>Positive</td>\n",
       "    </tr>\n",
       "    <tr>\n",
       "      <th>97</th>\n",
       "      <td>Accelerating long-duration energy storage inno...</td>\n",
       "      <td>0.875000</td>\n",
       "      <td>0.375000</td>\n",
       "      <td>Positive</td>\n",
       "    </tr>\n",
       "    <tr>\n",
       "      <th>98</th>\n",
       "      <td>The  is supporting GIISER which is working to ...</td>\n",
       "      <td>0.287500</td>\n",
       "      <td>0.187500</td>\n",
       "      <td>Positive</td>\n",
       "    </tr>\n",
       "    <tr>\n",
       "      <th>99</th>\n",
       "      <td>South Africa did the right thing by reporting ...</td>\n",
       "      <td>0.607143</td>\n",
       "      <td>0.183810</td>\n",
       "      <td>Positive</td>\n",
       "    </tr>\n",
       "  </tbody>\n",
       "</table>\n",
       "<p>100 rows × 4 columns</p>\n",
       "</div>"
      ],
      "text/plain": [
       "                                               Tweets  Subjectivity  Polarity  \\\n",
       "0   Changing mindsets is never easy, but Sudha Var...      0.916667 -0.108333   \n",
       "1   In February 2020, we had a degree of optimism ...      0.166667  0.166667   \n",
       "2   A world without tuberculosis is attainable if ...      0.433333  0.366667   \n",
       "3   Madeleine Albright made history in so many way...      0.375000  0.112500   \n",
       "4   Every day I’m reminded of how my dad’s wisdom,...      0.500000  0.500000   \n",
       "..                                                ...           ...       ...   \n",
       "95  The groundbreaking RTS,S vaccine will help sav...      0.454545  0.136364   \n",
       "96  Robots will play a huge part in our future, an...      0.615625  0.221875   \n",
       "97  Accelerating long-duration energy storage inno...      0.875000  0.375000   \n",
       "98  The  is supporting GIISER which is working to ...      0.287500  0.187500   \n",
       "99  South Africa did the right thing by reporting ...      0.607143  0.183810   \n",
       "\n",
       "    Analysis  \n",
       "0   Negative  \n",
       "1   Positive  \n",
       "2   Positive  \n",
       "3   Positive  \n",
       "4   Positive  \n",
       "..       ...  \n",
       "95  Positive  \n",
       "96  Positive  \n",
       "97  Positive  \n",
       "98  Positive  \n",
       "99  Positive  \n",
       "\n",
       "[100 rows x 4 columns]"
      ]
     },
     "execution_count": 48,
     "metadata": {},
     "output_type": "execute_result"
    }
   ],
   "source": [
    "df"
   ]
  }
 ],
 "metadata": {
  "kernelspec": {
   "display_name": "Python 3 (ipykernel)",
   "language": "python",
   "name": "python3"
  },
  "language_info": {
   "codemirror_mode": {
    "name": "ipython",
    "version": 3
   },
   "file_extension": ".py",
   "mimetype": "text/x-python",
   "name": "python",
   "nbconvert_exporter": "python",
   "pygments_lexer": "ipython3",
   "version": "3.9.7"
  }
 },
 "nbformat": 4,
 "nbformat_minor": 5
}
